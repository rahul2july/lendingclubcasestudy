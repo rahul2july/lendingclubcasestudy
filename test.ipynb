{
 "cells": [
  {
   "cell_type": "code",
   "execution_count": 2,
   "id": "72e4ecf2-2004-4bd5-99c5-a17b3da77208",
   "metadata": {},
   "outputs": [],
   "source": [
    "import matplotlib.pyplot as plt\n",
    "import numpy as np\n",
    "import pandas as pd\n",
    "import seaborn as sns\n",
    "\n",
    "from datetime import datetime"
   ]
  },
  {
   "cell_type": "code",
   "execution_count": 3,
   "id": "28209e24-9fe1-483e-b7bb-11e096e8613e",
   "metadata": {},
   "outputs": [
    {
     "name": "stdout",
     "output_type": "stream",
     "text": [
      "        id  member_id  loan_amnt  funded_amnt  funded_amnt_inv        term  \\\n",
      "0  1077501    1296599       5000         5000           4975.0   36 months   \n",
      "1  1077430    1314167       2500         2500           2500.0   60 months   \n",
      "2  1077175    1313524       2400         2400           2400.0   36 months   \n",
      "3  1076863    1277178      10000        10000          10000.0   36 months   \n",
      "4  1075358    1311748       3000         3000           3000.0   60 months   \n",
      "\n",
      "  int_rate  installment grade sub_grade  ... num_tl_90g_dpd_24m  \\\n",
      "0   10.65%       162.87     B        B2  ...                NaN   \n",
      "1   15.27%        59.83     C        C4  ...                NaN   \n",
      "2   15.96%        84.33     C        C5  ...                NaN   \n",
      "3   13.49%       339.31     C        C1  ...                NaN   \n",
      "4   12.69%        67.79     B        B5  ...                NaN   \n",
      "\n",
      "  num_tl_op_past_12m pct_tl_nvr_dlq  percent_bc_gt_75 pub_rec_bankruptcies  \\\n",
      "0                NaN            NaN               NaN                  0.0   \n",
      "1                NaN            NaN               NaN                  0.0   \n",
      "2                NaN            NaN               NaN                  0.0   \n",
      "3                NaN            NaN               NaN                  0.0   \n",
      "4                NaN            NaN               NaN                  0.0   \n",
      "\n",
      "  tax_liens tot_hi_cred_lim total_bal_ex_mort total_bc_limit  \\\n",
      "0       0.0             NaN               NaN            NaN   \n",
      "1       0.0             NaN               NaN            NaN   \n",
      "2       0.0             NaN               NaN            NaN   \n",
      "3       0.0             NaN               NaN            NaN   \n",
      "4       0.0             NaN               NaN            NaN   \n",
      "\n",
      "  total_il_high_credit_limit  \n",
      "0                        NaN  \n",
      "1                        NaN  \n",
      "2                        NaN  \n",
      "3                        NaN  \n",
      "4                        NaN  \n",
      "\n",
      "[5 rows x 111 columns]\n"
     ]
    }
   ],
   "source": [
    "# Loading data in data frame\n",
    "# EDA: Data sourcing\n",
    "loan_df = pd.read_csv(\"loan.csv\", header=0, low_memory=False)\n",
    "print (loan_df.head())"
   ]
  },
  {
   "cell_type": "code",
   "execution_count": 4,
   "id": "4fc5bbb6-a9b5-4191-bfde-bb00eb739b3c",
   "metadata": {},
   "outputs": [
    {
     "data": {
      "text/plain": [
       "(39717, 111)"
      ]
     },
     "execution_count": 4,
     "metadata": {},
     "output_type": "execute_result"
    }
   ],
   "source": [
    "loan_df.shape\n"
   ]
  },
  {
   "cell_type": "code",
   "execution_count": 5,
   "id": "3cdd8d46-4d4b-4b15-8c15-c32a3c22aec4",
   "metadata": {},
   "outputs": [
    {
     "data": {
      "text/plain": [
       "Index(['id', 'member_id', 'loan_amnt', 'funded_amnt', 'funded_amnt_inv',\n",
       "       'term', 'int_rate', 'installment', 'grade', 'sub_grade',\n",
       "       ...\n",
       "       'num_tl_90g_dpd_24m', 'num_tl_op_past_12m', 'pct_tl_nvr_dlq',\n",
       "       'percent_bc_gt_75', 'pub_rec_bankruptcies', 'tax_liens',\n",
       "       'tot_hi_cred_lim', 'total_bal_ex_mort', 'total_bc_limit',\n",
       "       'total_il_high_credit_limit'],\n",
       "      dtype='object', length=111)"
      ]
     },
     "execution_count": 5,
     "metadata": {},
     "output_type": "execute_result"
    }
   ],
   "source": [
    "loan_df.columns"
   ]
  },
  {
   "cell_type": "code",
   "execution_count": 6,
   "id": "d9cde3a7-98e7-4633-92c9-85076de24b3e",
   "metadata": {},
   "outputs": [],
   "source": [
    "# EDA: Data Cleaning\n",
    "# Filtering columns which should be dropped from the dataset which have NA only\n",
    "# Eg: Columns we got from the excel: AJ + AY onwards \n",
    "loan_df.dropna(how='all', axis='columns', inplace=True)        "
   ]
  },
  {
   "cell_type": "code",
   "execution_count": 7,
   "id": "96066e80",
   "metadata": {},
   "outputs": [
    {
     "data": {
      "text/plain": [
       "(39717, 57)"
      ]
     },
     "execution_count": 7,
     "metadata": {},
     "output_type": "execute_result"
    }
   ],
   "source": [
    "loan_df.shape"
   ]
  },
  {
   "cell_type": "code",
   "execution_count": 8,
   "id": "ad5bf90a",
   "metadata": {},
   "outputs": [
    {
     "data": {
      "text/html": [
       "<div>\n",
       "<style scoped>\n",
       "    .dataframe tbody tr th:only-of-type {\n",
       "        vertical-align: middle;\n",
       "    }\n",
       "\n",
       "    .dataframe tbody tr th {\n",
       "        vertical-align: top;\n",
       "    }\n",
       "\n",
       "    .dataframe thead th {\n",
       "        text-align: right;\n",
       "    }\n",
       "</style>\n",
       "<table border=\"1\" class=\"dataframe\">\n",
       "  <thead>\n",
       "    <tr style=\"text-align: right;\">\n",
       "      <th></th>\n",
       "      <th>id</th>\n",
       "      <th>member_id</th>\n",
       "      <th>loan_amnt</th>\n",
       "      <th>funded_amnt</th>\n",
       "      <th>funded_amnt_inv</th>\n",
       "      <th>term</th>\n",
       "      <th>int_rate</th>\n",
       "      <th>installment</th>\n",
       "      <th>grade</th>\n",
       "      <th>sub_grade</th>\n",
       "      <th>...</th>\n",
       "      <th>next_pymnt_d</th>\n",
       "      <th>last_credit_pull_d</th>\n",
       "      <th>collections_12_mths_ex_med</th>\n",
       "      <th>policy_code</th>\n",
       "      <th>application_type</th>\n",
       "      <th>acc_now_delinq</th>\n",
       "      <th>chargeoff_within_12_mths</th>\n",
       "      <th>delinq_amnt</th>\n",
       "      <th>pub_rec_bankruptcies</th>\n",
       "      <th>tax_liens</th>\n",
       "    </tr>\n",
       "  </thead>\n",
       "  <tbody>\n",
       "    <tr>\n",
       "      <th>0</th>\n",
       "      <td>1077501</td>\n",
       "      <td>1296599</td>\n",
       "      <td>5000</td>\n",
       "      <td>5000</td>\n",
       "      <td>4975.0</td>\n",
       "      <td>36 months</td>\n",
       "      <td>10.65%</td>\n",
       "      <td>162.87</td>\n",
       "      <td>B</td>\n",
       "      <td>B2</td>\n",
       "      <td>...</td>\n",
       "      <td>NaN</td>\n",
       "      <td>May-16</td>\n",
       "      <td>0.0</td>\n",
       "      <td>1</td>\n",
       "      <td>INDIVIDUAL</td>\n",
       "      <td>0</td>\n",
       "      <td>0.0</td>\n",
       "      <td>0</td>\n",
       "      <td>0.0</td>\n",
       "      <td>0.0</td>\n",
       "    </tr>\n",
       "    <tr>\n",
       "      <th>1</th>\n",
       "      <td>1077430</td>\n",
       "      <td>1314167</td>\n",
       "      <td>2500</td>\n",
       "      <td>2500</td>\n",
       "      <td>2500.0</td>\n",
       "      <td>60 months</td>\n",
       "      <td>15.27%</td>\n",
       "      <td>59.83</td>\n",
       "      <td>C</td>\n",
       "      <td>C4</td>\n",
       "      <td>...</td>\n",
       "      <td>NaN</td>\n",
       "      <td>Sep-13</td>\n",
       "      <td>0.0</td>\n",
       "      <td>1</td>\n",
       "      <td>INDIVIDUAL</td>\n",
       "      <td>0</td>\n",
       "      <td>0.0</td>\n",
       "      <td>0</td>\n",
       "      <td>0.0</td>\n",
       "      <td>0.0</td>\n",
       "    </tr>\n",
       "    <tr>\n",
       "      <th>2</th>\n",
       "      <td>1077175</td>\n",
       "      <td>1313524</td>\n",
       "      <td>2400</td>\n",
       "      <td>2400</td>\n",
       "      <td>2400.0</td>\n",
       "      <td>36 months</td>\n",
       "      <td>15.96%</td>\n",
       "      <td>84.33</td>\n",
       "      <td>C</td>\n",
       "      <td>C5</td>\n",
       "      <td>...</td>\n",
       "      <td>NaN</td>\n",
       "      <td>May-16</td>\n",
       "      <td>0.0</td>\n",
       "      <td>1</td>\n",
       "      <td>INDIVIDUAL</td>\n",
       "      <td>0</td>\n",
       "      <td>0.0</td>\n",
       "      <td>0</td>\n",
       "      <td>0.0</td>\n",
       "      <td>0.0</td>\n",
       "    </tr>\n",
       "    <tr>\n",
       "      <th>3</th>\n",
       "      <td>1076863</td>\n",
       "      <td>1277178</td>\n",
       "      <td>10000</td>\n",
       "      <td>10000</td>\n",
       "      <td>10000.0</td>\n",
       "      <td>36 months</td>\n",
       "      <td>13.49%</td>\n",
       "      <td>339.31</td>\n",
       "      <td>C</td>\n",
       "      <td>C1</td>\n",
       "      <td>...</td>\n",
       "      <td>NaN</td>\n",
       "      <td>Apr-16</td>\n",
       "      <td>0.0</td>\n",
       "      <td>1</td>\n",
       "      <td>INDIVIDUAL</td>\n",
       "      <td>0</td>\n",
       "      <td>0.0</td>\n",
       "      <td>0</td>\n",
       "      <td>0.0</td>\n",
       "      <td>0.0</td>\n",
       "    </tr>\n",
       "    <tr>\n",
       "      <th>4</th>\n",
       "      <td>1075358</td>\n",
       "      <td>1311748</td>\n",
       "      <td>3000</td>\n",
       "      <td>3000</td>\n",
       "      <td>3000.0</td>\n",
       "      <td>60 months</td>\n",
       "      <td>12.69%</td>\n",
       "      <td>67.79</td>\n",
       "      <td>B</td>\n",
       "      <td>B5</td>\n",
       "      <td>...</td>\n",
       "      <td>Jun-16</td>\n",
       "      <td>May-16</td>\n",
       "      <td>0.0</td>\n",
       "      <td>1</td>\n",
       "      <td>INDIVIDUAL</td>\n",
       "      <td>0</td>\n",
       "      <td>0.0</td>\n",
       "      <td>0</td>\n",
       "      <td>0.0</td>\n",
       "      <td>0.0</td>\n",
       "    </tr>\n",
       "  </tbody>\n",
       "</table>\n",
       "<p>5 rows × 57 columns</p>\n",
       "</div>"
      ],
      "text/plain": [
       "        id  member_id  loan_amnt  funded_amnt  funded_amnt_inv        term  \\\n",
       "0  1077501    1296599       5000         5000           4975.0   36 months   \n",
       "1  1077430    1314167       2500         2500           2500.0   60 months   \n",
       "2  1077175    1313524       2400         2400           2400.0   36 months   \n",
       "3  1076863    1277178      10000        10000          10000.0   36 months   \n",
       "4  1075358    1311748       3000         3000           3000.0   60 months   \n",
       "\n",
       "  int_rate  installment grade sub_grade  ... next_pymnt_d last_credit_pull_d  \\\n",
       "0   10.65%       162.87     B        B2  ...          NaN             May-16   \n",
       "1   15.27%        59.83     C        C4  ...          NaN             Sep-13   \n",
       "2   15.96%        84.33     C        C5  ...          NaN             May-16   \n",
       "3   13.49%       339.31     C        C1  ...          NaN             Apr-16   \n",
       "4   12.69%        67.79     B        B5  ...       Jun-16             May-16   \n",
       "\n",
       "  collections_12_mths_ex_med  policy_code application_type acc_now_delinq  \\\n",
       "0                        0.0            1       INDIVIDUAL              0   \n",
       "1                        0.0            1       INDIVIDUAL              0   \n",
       "2                        0.0            1       INDIVIDUAL              0   \n",
       "3                        0.0            1       INDIVIDUAL              0   \n",
       "4                        0.0            1       INDIVIDUAL              0   \n",
       "\n",
       "  chargeoff_within_12_mths delinq_amnt pub_rec_bankruptcies tax_liens  \n",
       "0                      0.0           0                  0.0       0.0  \n",
       "1                      0.0           0                  0.0       0.0  \n",
       "2                      0.0           0                  0.0       0.0  \n",
       "3                      0.0           0                  0.0       0.0  \n",
       "4                      0.0           0                  0.0       0.0  \n",
       "\n",
       "[5 rows x 57 columns]"
      ]
     },
     "execution_count": 8,
     "metadata": {},
     "output_type": "execute_result"
    }
   ],
   "source": [
    "loan_df.head()"
   ]
  },
  {
   "cell_type": "code",
   "execution_count": 9,
   "id": "c847a26d",
   "metadata": {},
   "outputs": [],
   "source": [
    "# columns_to_drop contains list of columns to be filtered - either they have same value or \n",
    "# don't contribute in analysis \n",
    "# member_id may not be useful but we are keeping it to have a record identifier\n",
    "# The customer variables are not available at the time of loan processing and thats why excluding them\n",
    "# funded_amnt is the amount which reviewer says but actual value is given by funded_amnt_inv which we have\n",
    "# Hence we are dropping funded_amnt\n",
    "columns_to_drop = [\n",
    "                   'id', 'member_id', 'emp_title', 'pymnt_plan', 'url', 'desc', 'title', 'addr_state', \n",
    "                   'initial_list_status', 'collections_12_mths_ex_med', 'policy_code', \n",
    "                   'application_type', 'acc_now_delinq', 'chargeoff_within_12_mths',\n",
    "                   'delinq_amnt', 'tax_liens','collection_recovery_fee', 'inq_last_6mths',\n",
    "                   'pymnt_plan', 'sub_grade', 'delinq_2yrs', 'earliest_cr_line', 'open_acc',\n",
    "                   'pub_rec', 'revol_bal', 'revol_util', 'total_acc', 'out_prncp', 'out_prncp_inv',\n",
    "                    'total_pymnt', 'total_pymnt_inv', 'total_rec_prncp', 'total_rec_int',\n",
    "                    'total_rec_late_fee', 'recoveries', 'last_pymnt_d', 'last_pymnt_amnt',\n",
    "                    'last_credit_pull_d', 'funded_amnt' \n",
    "                  ]\n",
    "loan_df.drop(columns_to_drop, axis = 1, inplace = True)"
   ]
  },
  {
   "cell_type": "code",
   "execution_count": 10,
   "id": "75d95f19",
   "metadata": {},
   "outputs": [
    {
     "data": {
      "text/plain": [
       "(39717, 19)"
      ]
     },
     "execution_count": 10,
     "metadata": {},
     "output_type": "execute_result"
    }
   ],
   "source": [
    "loan_df.shape"
   ]
  },
  {
   "cell_type": "code",
   "execution_count": 11,
   "id": "d144061a",
   "metadata": {},
   "outputs": [
    {
     "data": {
      "text/plain": [
       "Index(['loan_amnt', 'funded_amnt_inv', 'term', 'int_rate', 'installment',\n",
       "       'grade', 'emp_length', 'home_ownership', 'annual_inc',\n",
       "       'verification_status', 'issue_d', 'loan_status', 'purpose', 'zip_code',\n",
       "       'dti', 'mths_since_last_delinq', 'mths_since_last_record',\n",
       "       'next_pymnt_d', 'pub_rec_bankruptcies'],\n",
       "      dtype='object')"
      ]
     },
     "execution_count": 11,
     "metadata": {},
     "output_type": "execute_result"
    }
   ],
   "source": [
    "loan_df.columns"
   ]
  },
  {
   "cell_type": "code",
   "execution_count": 12,
   "id": "547f7e04",
   "metadata": {},
   "outputs": [],
   "source": [
    "# Before doing any further analysis getting rid of records having loan_status as current\n",
    "# we are removing this because this we can't predict the behaiour here.\n",
    "loan_df = loan_df[loan_df.loan_status != \"Current\"]"
   ]
  },
  {
   "cell_type": "code",
   "execution_count": 13,
   "id": "ad2e871f",
   "metadata": {},
   "outputs": [
    {
     "data": {
      "text/plain": [
       "(38577, 19)"
      ]
     },
     "execution_count": 13,
     "metadata": {},
     "output_type": "execute_result"
    }
   ],
   "source": [
    "loan_df.shape"
   ]
  },
  {
   "cell_type": "code",
   "execution_count": 14,
   "id": "79b80972",
   "metadata": {},
   "outputs": [],
   "source": [
    "# Now lets clean up/ modify few columns based on % missing data\n",
    "missing_data = (loan_df.isna().sum()/len(loan_df.index))*100\n",
    "\n",
    "cols_gt_60_percent = []\n",
    "for k,v in missing_data.items():\n",
    "    if v > 60:\n",
    "        cols_gt_60_percent.append(k)\n",
    "\n",
    "# mths_since_last_delinq     64.559193\n",
    "# mths_since_last_record     92.897322\n",
    "# next_pymnt_d              100.000000 < -- this is not given correctly by pandas lib\n",
    "loan_df.drop(cols_gt_60_percent, axis = 1, inplace = True)"
   ]
  },
  {
   "cell_type": "code",
   "execution_count": 15,
   "id": "af99d6de",
   "metadata": {},
   "outputs": [
    {
     "data": {
      "text/plain": [
       "(38577, 16)"
      ]
     },
     "execution_count": 15,
     "metadata": {},
     "output_type": "execute_result"
    }
   ],
   "source": [
    "loan_df.shape"
   ]
  },
  {
   "cell_type": "code",
   "execution_count": 16,
   "id": "1ff15e79",
   "metadata": {},
   "outputs": [],
   "source": [
    "# Removing months word from term column\n",
    "loan_df['term'] = list(map(lambda a:a.split(' ')[1], loan_df['term']))"
   ]
  },
  {
   "cell_type": "code",
   "execution_count": 17,
   "id": "c6a40d98",
   "metadata": {},
   "outputs": [
    {
     "data": {
      "text/html": [
       "<div>\n",
       "<style scoped>\n",
       "    .dataframe tbody tr th:only-of-type {\n",
       "        vertical-align: middle;\n",
       "    }\n",
       "\n",
       "    .dataframe tbody tr th {\n",
       "        vertical-align: top;\n",
       "    }\n",
       "\n",
       "    .dataframe thead th {\n",
       "        text-align: right;\n",
       "    }\n",
       "</style>\n",
       "<table border=\"1\" class=\"dataframe\">\n",
       "  <thead>\n",
       "    <tr style=\"text-align: right;\">\n",
       "      <th></th>\n",
       "      <th>loan_amnt</th>\n",
       "      <th>funded_amnt_inv</th>\n",
       "      <th>term</th>\n",
       "      <th>int_rate</th>\n",
       "      <th>installment</th>\n",
       "      <th>grade</th>\n",
       "      <th>emp_length</th>\n",
       "      <th>home_ownership</th>\n",
       "      <th>annual_inc</th>\n",
       "      <th>verification_status</th>\n",
       "      <th>issue_d</th>\n",
       "      <th>loan_status</th>\n",
       "      <th>purpose</th>\n",
       "      <th>zip_code</th>\n",
       "      <th>dti</th>\n",
       "      <th>pub_rec_bankruptcies</th>\n",
       "    </tr>\n",
       "  </thead>\n",
       "  <tbody>\n",
       "    <tr>\n",
       "      <th>0</th>\n",
       "      <td>5000</td>\n",
       "      <td>4975.0</td>\n",
       "      <td>36</td>\n",
       "      <td>10.65%</td>\n",
       "      <td>162.87</td>\n",
       "      <td>B</td>\n",
       "      <td>10+ years</td>\n",
       "      <td>RENT</td>\n",
       "      <td>24000.0</td>\n",
       "      <td>Verified</td>\n",
       "      <td>Dec-11</td>\n",
       "      <td>Fully Paid</td>\n",
       "      <td>credit_card</td>\n",
       "      <td>860xx</td>\n",
       "      <td>27.65</td>\n",
       "      <td>0.0</td>\n",
       "    </tr>\n",
       "    <tr>\n",
       "      <th>1</th>\n",
       "      <td>2500</td>\n",
       "      <td>2500.0</td>\n",
       "      <td>60</td>\n",
       "      <td>15.27%</td>\n",
       "      <td>59.83</td>\n",
       "      <td>C</td>\n",
       "      <td>&lt; 1 year</td>\n",
       "      <td>RENT</td>\n",
       "      <td>30000.0</td>\n",
       "      <td>Source Verified</td>\n",
       "      <td>Dec-11</td>\n",
       "      <td>Charged Off</td>\n",
       "      <td>car</td>\n",
       "      <td>309xx</td>\n",
       "      <td>1.00</td>\n",
       "      <td>0.0</td>\n",
       "    </tr>\n",
       "    <tr>\n",
       "      <th>2</th>\n",
       "      <td>2400</td>\n",
       "      <td>2400.0</td>\n",
       "      <td>36</td>\n",
       "      <td>15.96%</td>\n",
       "      <td>84.33</td>\n",
       "      <td>C</td>\n",
       "      <td>10+ years</td>\n",
       "      <td>RENT</td>\n",
       "      <td>12252.0</td>\n",
       "      <td>Not Verified</td>\n",
       "      <td>Dec-11</td>\n",
       "      <td>Fully Paid</td>\n",
       "      <td>small_business</td>\n",
       "      <td>606xx</td>\n",
       "      <td>8.72</td>\n",
       "      <td>0.0</td>\n",
       "    </tr>\n",
       "    <tr>\n",
       "      <th>3</th>\n",
       "      <td>10000</td>\n",
       "      <td>10000.0</td>\n",
       "      <td>36</td>\n",
       "      <td>13.49%</td>\n",
       "      <td>339.31</td>\n",
       "      <td>C</td>\n",
       "      <td>10+ years</td>\n",
       "      <td>RENT</td>\n",
       "      <td>49200.0</td>\n",
       "      <td>Source Verified</td>\n",
       "      <td>Dec-11</td>\n",
       "      <td>Fully Paid</td>\n",
       "      <td>other</td>\n",
       "      <td>917xx</td>\n",
       "      <td>20.00</td>\n",
       "      <td>0.0</td>\n",
       "    </tr>\n",
       "    <tr>\n",
       "      <th>5</th>\n",
       "      <td>5000</td>\n",
       "      <td>5000.0</td>\n",
       "      <td>36</td>\n",
       "      <td>7.90%</td>\n",
       "      <td>156.46</td>\n",
       "      <td>A</td>\n",
       "      <td>3 years</td>\n",
       "      <td>RENT</td>\n",
       "      <td>36000.0</td>\n",
       "      <td>Source Verified</td>\n",
       "      <td>Dec-11</td>\n",
       "      <td>Fully Paid</td>\n",
       "      <td>wedding</td>\n",
       "      <td>852xx</td>\n",
       "      <td>11.20</td>\n",
       "      <td>0.0</td>\n",
       "    </tr>\n",
       "  </tbody>\n",
       "</table>\n",
       "</div>"
      ],
      "text/plain": [
       "   loan_amnt  funded_amnt_inv term int_rate  installment grade emp_length  \\\n",
       "0       5000           4975.0   36   10.65%       162.87     B  10+ years   \n",
       "1       2500           2500.0   60   15.27%        59.83     C   < 1 year   \n",
       "2       2400           2400.0   36   15.96%        84.33     C  10+ years   \n",
       "3      10000          10000.0   36   13.49%       339.31     C  10+ years   \n",
       "5       5000           5000.0   36    7.90%       156.46     A    3 years   \n",
       "\n",
       "  home_ownership  annual_inc verification_status issue_d  loan_status  \\\n",
       "0           RENT     24000.0            Verified  Dec-11   Fully Paid   \n",
       "1           RENT     30000.0     Source Verified  Dec-11  Charged Off   \n",
       "2           RENT     12252.0        Not Verified  Dec-11   Fully Paid   \n",
       "3           RENT     49200.0     Source Verified  Dec-11   Fully Paid   \n",
       "5           RENT     36000.0     Source Verified  Dec-11   Fully Paid   \n",
       "\n",
       "          purpose zip_code    dti  pub_rec_bankruptcies  \n",
       "0     credit_card    860xx  27.65                   0.0  \n",
       "1             car    309xx   1.00                   0.0  \n",
       "2  small_business    606xx   8.72                   0.0  \n",
       "3           other    917xx  20.00                   0.0  \n",
       "5         wedding    852xx  11.20                   0.0  "
      ]
     },
     "execution_count": 17,
     "metadata": {},
     "output_type": "execute_result"
    }
   ],
   "source": [
    "loan_df.head()"
   ]
  },
  {
   "cell_type": "code",
   "execution_count": 18,
   "id": "176150b2",
   "metadata": {},
   "outputs": [],
   "source": [
    "# Removing % from int_rate and converting result to a float\n",
    "loan_df['int_rate'] = list(map(lambda a:float(a.split('%')[0]), loan_df['int_rate']))"
   ]
  },
  {
   "cell_type": "code",
   "execution_count": 19,
   "id": "8d09a9a8",
   "metadata": {},
   "outputs": [],
   "source": [
    "# converting annual_inc and funded_amnt_inv to int as there are very few having float values\n",
    "loan_df['annual_inc'] = list(map(lambda a:int(a), loan_df['annual_inc']))\n",
    "loan_df['funded_amnt_inv'] = list(map(lambda a:int(a), loan_df['funded_amnt_inv']))"
   ]
  },
  {
   "cell_type": "code",
   "execution_count": 20,
   "id": "5b77a1f3",
   "metadata": {},
   "outputs": [
    {
     "data": {
      "text/plain": [
       "loan_amnt                  0\n",
       "funded_amnt_inv            0\n",
       "term                       0\n",
       "int_rate                   0\n",
       "installment                0\n",
       "grade                      0\n",
       "emp_length              1033\n",
       "home_ownership             0\n",
       "annual_inc                 0\n",
       "verification_status        0\n",
       "issue_d                    0\n",
       "loan_status                0\n",
       "purpose                    0\n",
       "zip_code                   0\n",
       "dti                        0\n",
       "pub_rec_bankruptcies     697\n",
       "dtype: int64"
      ]
     },
     "execution_count": 20,
     "metadata": {},
     "output_type": "execute_result"
    }
   ],
   "source": [
    "# Finding columns which needs to be filled properly \n",
    "loan_df.isna().sum() "
   ]
  },
  {
   "cell_type": "code",
   "execution_count": 21,
   "id": "af0edf42",
   "metadata": {},
   "outputs": [
    {
     "data": {
      "text/plain": [
       "0        0.0\n",
       "1        0.0\n",
       "2        0.0\n",
       "3        0.0\n",
       "5        0.0\n",
       "        ... \n",
       "39712    0.0\n",
       "39713    0.0\n",
       "39714    0.0\n",
       "39715    0.0\n",
       "39716    0.0\n",
       "Name: pub_rec_bankruptcies, Length: 38577, dtype: float64"
      ]
     },
     "execution_count": 21,
     "metadata": {},
     "output_type": "execute_result"
    }
   ],
   "source": [
    "# Taking mode to fill na values for emp_length and pub_rec_bankruptcies\n",
    "loan_df['emp_length'].fillna(loan_df['emp_length'].mode()[0], inplace = True)\n",
    "loan_df['pub_rec_bankruptcies'].fillna(loan_df['pub_rec_bankruptcies'].mode()[0], inplace = True)\n",
    "loan_df['emp_length']\n",
    "loan_df['pub_rec_bankruptcies']"
   ]
  },
  {
   "cell_type": "code",
   "execution_count": 22,
   "id": "8354b2e2",
   "metadata": {},
   "outputs": [],
   "source": [
    "# Here we see 9 bins are already proper only < 1 year and 10+ years needs to be corrected\n",
    "# we are making < 1 year as 0 year and 10+ years as 10\n",
    "loan_df['emp_length'] = loan_df['emp_length'].map(lambda x: 0 if \"<\" in x else (x.split('+')[0] if \"+\" in x else x.split()[0]))"
   ]
  },
  {
   "cell_type": "code",
   "execution_count": 23,
   "id": "9a32d8d3",
   "metadata": {},
   "outputs": [
    {
     "data": {
      "text/html": [
       "<div>\n",
       "<style scoped>\n",
       "    .dataframe tbody tr th:only-of-type {\n",
       "        vertical-align: middle;\n",
       "    }\n",
       "\n",
       "    .dataframe tbody tr th {\n",
       "        vertical-align: top;\n",
       "    }\n",
       "\n",
       "    .dataframe thead th {\n",
       "        text-align: right;\n",
       "    }\n",
       "</style>\n",
       "<table border=\"1\" class=\"dataframe\">\n",
       "  <thead>\n",
       "    <tr style=\"text-align: right;\">\n",
       "      <th></th>\n",
       "      <th>loan_amnt</th>\n",
       "      <th>funded_amnt_inv</th>\n",
       "      <th>term</th>\n",
       "      <th>int_rate</th>\n",
       "      <th>installment</th>\n",
       "      <th>grade</th>\n",
       "      <th>emp_length</th>\n",
       "      <th>home_ownership</th>\n",
       "      <th>annual_inc</th>\n",
       "      <th>verification_status</th>\n",
       "      <th>issue_d</th>\n",
       "      <th>loan_status</th>\n",
       "      <th>purpose</th>\n",
       "      <th>zip_code</th>\n",
       "      <th>dti</th>\n",
       "      <th>pub_rec_bankruptcies</th>\n",
       "    </tr>\n",
       "  </thead>\n",
       "  <tbody>\n",
       "    <tr>\n",
       "      <th>0</th>\n",
       "      <td>5000</td>\n",
       "      <td>4975</td>\n",
       "      <td>36</td>\n",
       "      <td>10.65</td>\n",
       "      <td>162.87</td>\n",
       "      <td>B</td>\n",
       "      <td>10</td>\n",
       "      <td>RENT</td>\n",
       "      <td>24000</td>\n",
       "      <td>Verified</td>\n",
       "      <td>Dec-11</td>\n",
       "      <td>Fully Paid</td>\n",
       "      <td>credit_card</td>\n",
       "      <td>860xx</td>\n",
       "      <td>27.65</td>\n",
       "      <td>0.0</td>\n",
       "    </tr>\n",
       "    <tr>\n",
       "      <th>1</th>\n",
       "      <td>2500</td>\n",
       "      <td>2500</td>\n",
       "      <td>60</td>\n",
       "      <td>15.27</td>\n",
       "      <td>59.83</td>\n",
       "      <td>C</td>\n",
       "      <td>0</td>\n",
       "      <td>RENT</td>\n",
       "      <td>30000</td>\n",
       "      <td>Source Verified</td>\n",
       "      <td>Dec-11</td>\n",
       "      <td>Charged Off</td>\n",
       "      <td>car</td>\n",
       "      <td>309xx</td>\n",
       "      <td>1.00</td>\n",
       "      <td>0.0</td>\n",
       "    </tr>\n",
       "    <tr>\n",
       "      <th>2</th>\n",
       "      <td>2400</td>\n",
       "      <td>2400</td>\n",
       "      <td>36</td>\n",
       "      <td>15.96</td>\n",
       "      <td>84.33</td>\n",
       "      <td>C</td>\n",
       "      <td>10</td>\n",
       "      <td>RENT</td>\n",
       "      <td>12252</td>\n",
       "      <td>Not Verified</td>\n",
       "      <td>Dec-11</td>\n",
       "      <td>Fully Paid</td>\n",
       "      <td>small_business</td>\n",
       "      <td>606xx</td>\n",
       "      <td>8.72</td>\n",
       "      <td>0.0</td>\n",
       "    </tr>\n",
       "    <tr>\n",
       "      <th>3</th>\n",
       "      <td>10000</td>\n",
       "      <td>10000</td>\n",
       "      <td>36</td>\n",
       "      <td>13.49</td>\n",
       "      <td>339.31</td>\n",
       "      <td>C</td>\n",
       "      <td>10</td>\n",
       "      <td>RENT</td>\n",
       "      <td>49200</td>\n",
       "      <td>Source Verified</td>\n",
       "      <td>Dec-11</td>\n",
       "      <td>Fully Paid</td>\n",
       "      <td>other</td>\n",
       "      <td>917xx</td>\n",
       "      <td>20.00</td>\n",
       "      <td>0.0</td>\n",
       "    </tr>\n",
       "    <tr>\n",
       "      <th>5</th>\n",
       "      <td>5000</td>\n",
       "      <td>5000</td>\n",
       "      <td>36</td>\n",
       "      <td>7.90</td>\n",
       "      <td>156.46</td>\n",
       "      <td>A</td>\n",
       "      <td>3</td>\n",
       "      <td>RENT</td>\n",
       "      <td>36000</td>\n",
       "      <td>Source Verified</td>\n",
       "      <td>Dec-11</td>\n",
       "      <td>Fully Paid</td>\n",
       "      <td>wedding</td>\n",
       "      <td>852xx</td>\n",
       "      <td>11.20</td>\n",
       "      <td>0.0</td>\n",
       "    </tr>\n",
       "  </tbody>\n",
       "</table>\n",
       "</div>"
      ],
      "text/plain": [
       "   loan_amnt  funded_amnt_inv term  int_rate  installment grade emp_length  \\\n",
       "0       5000             4975   36     10.65       162.87     B         10   \n",
       "1       2500             2500   60     15.27        59.83     C          0   \n",
       "2       2400             2400   36     15.96        84.33     C         10   \n",
       "3      10000            10000   36     13.49       339.31     C         10   \n",
       "5       5000             5000   36      7.90       156.46     A          3   \n",
       "\n",
       "  home_ownership  annual_inc verification_status issue_d  loan_status  \\\n",
       "0           RENT       24000            Verified  Dec-11   Fully Paid   \n",
       "1           RENT       30000     Source Verified  Dec-11  Charged Off   \n",
       "2           RENT       12252        Not Verified  Dec-11   Fully Paid   \n",
       "3           RENT       49200     Source Verified  Dec-11   Fully Paid   \n",
       "5           RENT       36000     Source Verified  Dec-11   Fully Paid   \n",
       "\n",
       "          purpose zip_code    dti  pub_rec_bankruptcies  \n",
       "0     credit_card    860xx  27.65                   0.0  \n",
       "1             car    309xx   1.00                   0.0  \n",
       "2  small_business    606xx   8.72                   0.0  \n",
       "3           other    917xx  20.00                   0.0  \n",
       "5         wedding    852xx  11.20                   0.0  "
      ]
     },
     "execution_count": 23,
     "metadata": {},
     "output_type": "execute_result"
    }
   ],
   "source": [
    "loan_df.head()"
   ]
  },
  {
   "cell_type": "code",
   "execution_count": 24,
   "id": "5f2db3ca",
   "metadata": {},
   "outputs": [],
   "source": [
    "# converting annual_inc to int as there are very few having float values\n",
    "loan_df['annual_inc'] = list(map(lambda a:int(a), loan_df['annual_inc']))"
   ]
  },
  {
   "cell_type": "code",
   "execution_count": 25,
   "id": "5edb5da6",
   "metadata": {},
   "outputs": [
    {
     "data": {
      "text/html": [
       "<div>\n",
       "<style scoped>\n",
       "    .dataframe tbody tr th:only-of-type {\n",
       "        vertical-align: middle;\n",
       "    }\n",
       "\n",
       "    .dataframe tbody tr th {\n",
       "        vertical-align: top;\n",
       "    }\n",
       "\n",
       "    .dataframe thead th {\n",
       "        text-align: right;\n",
       "    }\n",
       "</style>\n",
       "<table border=\"1\" class=\"dataframe\">\n",
       "  <thead>\n",
       "    <tr style=\"text-align: right;\">\n",
       "      <th></th>\n",
       "      <th>loan_amnt</th>\n",
       "      <th>funded_amnt_inv</th>\n",
       "      <th>term</th>\n",
       "      <th>int_rate</th>\n",
       "      <th>installment</th>\n",
       "      <th>grade</th>\n",
       "      <th>emp_length</th>\n",
       "      <th>home_ownership</th>\n",
       "      <th>annual_inc</th>\n",
       "      <th>verification_status</th>\n",
       "      <th>issue_d</th>\n",
       "      <th>loan_status</th>\n",
       "      <th>purpose</th>\n",
       "      <th>zip_code</th>\n",
       "      <th>dti</th>\n",
       "      <th>pub_rec_bankruptcies</th>\n",
       "    </tr>\n",
       "  </thead>\n",
       "  <tbody>\n",
       "    <tr>\n",
       "      <th>0</th>\n",
       "      <td>5000</td>\n",
       "      <td>4975</td>\n",
       "      <td>36</td>\n",
       "      <td>10.65</td>\n",
       "      <td>162.87</td>\n",
       "      <td>B</td>\n",
       "      <td>10</td>\n",
       "      <td>RENT</td>\n",
       "      <td>24000</td>\n",
       "      <td>Verified</td>\n",
       "      <td>Dec-11</td>\n",
       "      <td>Fully Paid</td>\n",
       "      <td>credit_card</td>\n",
       "      <td>860xx</td>\n",
       "      <td>27.65</td>\n",
       "      <td>0.0</td>\n",
       "    </tr>\n",
       "    <tr>\n",
       "      <th>1</th>\n",
       "      <td>2500</td>\n",
       "      <td>2500</td>\n",
       "      <td>60</td>\n",
       "      <td>15.27</td>\n",
       "      <td>59.83</td>\n",
       "      <td>C</td>\n",
       "      <td>0</td>\n",
       "      <td>RENT</td>\n",
       "      <td>30000</td>\n",
       "      <td>Source Verified</td>\n",
       "      <td>Dec-11</td>\n",
       "      <td>Charged Off</td>\n",
       "      <td>car</td>\n",
       "      <td>309xx</td>\n",
       "      <td>1.00</td>\n",
       "      <td>0.0</td>\n",
       "    </tr>\n",
       "    <tr>\n",
       "      <th>2</th>\n",
       "      <td>2400</td>\n",
       "      <td>2400</td>\n",
       "      <td>36</td>\n",
       "      <td>15.96</td>\n",
       "      <td>84.33</td>\n",
       "      <td>C</td>\n",
       "      <td>10</td>\n",
       "      <td>RENT</td>\n",
       "      <td>12252</td>\n",
       "      <td>Not Verified</td>\n",
       "      <td>Dec-11</td>\n",
       "      <td>Fully Paid</td>\n",
       "      <td>small_business</td>\n",
       "      <td>606xx</td>\n",
       "      <td>8.72</td>\n",
       "      <td>0.0</td>\n",
       "    </tr>\n",
       "    <tr>\n",
       "      <th>3</th>\n",
       "      <td>10000</td>\n",
       "      <td>10000</td>\n",
       "      <td>36</td>\n",
       "      <td>13.49</td>\n",
       "      <td>339.31</td>\n",
       "      <td>C</td>\n",
       "      <td>10</td>\n",
       "      <td>RENT</td>\n",
       "      <td>49200</td>\n",
       "      <td>Source Verified</td>\n",
       "      <td>Dec-11</td>\n",
       "      <td>Fully Paid</td>\n",
       "      <td>other</td>\n",
       "      <td>917xx</td>\n",
       "      <td>20.00</td>\n",
       "      <td>0.0</td>\n",
       "    </tr>\n",
       "    <tr>\n",
       "      <th>5</th>\n",
       "      <td>5000</td>\n",
       "      <td>5000</td>\n",
       "      <td>36</td>\n",
       "      <td>7.90</td>\n",
       "      <td>156.46</td>\n",
       "      <td>A</td>\n",
       "      <td>3</td>\n",
       "      <td>RENT</td>\n",
       "      <td>36000</td>\n",
       "      <td>Source Verified</td>\n",
       "      <td>Dec-11</td>\n",
       "      <td>Fully Paid</td>\n",
       "      <td>wedding</td>\n",
       "      <td>852xx</td>\n",
       "      <td>11.20</td>\n",
       "      <td>0.0</td>\n",
       "    </tr>\n",
       "  </tbody>\n",
       "</table>\n",
       "</div>"
      ],
      "text/plain": [
       "   loan_amnt  funded_amnt_inv term  int_rate  installment grade emp_length  \\\n",
       "0       5000             4975   36     10.65       162.87     B         10   \n",
       "1       2500             2500   60     15.27        59.83     C          0   \n",
       "2       2400             2400   36     15.96        84.33     C         10   \n",
       "3      10000            10000   36     13.49       339.31     C         10   \n",
       "5       5000             5000   36      7.90       156.46     A          3   \n",
       "\n",
       "  home_ownership  annual_inc verification_status issue_d  loan_status  \\\n",
       "0           RENT       24000            Verified  Dec-11   Fully Paid   \n",
       "1           RENT       30000     Source Verified  Dec-11  Charged Off   \n",
       "2           RENT       12252        Not Verified  Dec-11   Fully Paid   \n",
       "3           RENT       49200     Source Verified  Dec-11   Fully Paid   \n",
       "5           RENT       36000     Source Verified  Dec-11   Fully Paid   \n",
       "\n",
       "          purpose zip_code    dti  pub_rec_bankruptcies  \n",
       "0     credit_card    860xx  27.65                   0.0  \n",
       "1             car    309xx   1.00                   0.0  \n",
       "2  small_business    606xx   8.72                   0.0  \n",
       "3           other    917xx  20.00                   0.0  \n",
       "5         wedding    852xx  11.20                   0.0  "
      ]
     },
     "execution_count": 25,
     "metadata": {},
     "output_type": "execute_result"
    }
   ],
   "source": [
    "loan_df.head()"
   ]
  },
  {
   "cell_type": "code",
   "execution_count": 26,
   "id": "67d2cef3",
   "metadata": {},
   "outputs": [],
   "source": [
    "# EDA - Derived Metrics\n",
    "# We should convert issue_d to datetime object and extract year and month\n",
    "loan_df['issue_d'] = pd.to_datetime(loan_df['issue_d'].apply(lambda x: datetime.strptime(x,'%b-%y'))).dt.strftime('%m-%Y')"
   ]
  },
  {
   "cell_type": "code",
   "execution_count": 27,
   "id": "7296a866",
   "metadata": {},
   "outputs": [],
   "source": [
    "loan_df['issue_d_year'] = pd.DatetimeIndex(loan_df['issue_d']).year"
   ]
  },
  {
   "cell_type": "code",
   "execution_count": 28,
   "id": "fcd8343d",
   "metadata": {},
   "outputs": [],
   "source": [
    "loan_df['issue_d_month'] = pd.DatetimeIndex(loan_df['issue_d']).month"
   ]
  },
  {
   "cell_type": "code",
   "execution_count": 29,
   "id": "3ea37826",
   "metadata": {},
   "outputs": [
    {
     "data": {
      "text/html": [
       "<div>\n",
       "<style scoped>\n",
       "    .dataframe tbody tr th:only-of-type {\n",
       "        vertical-align: middle;\n",
       "    }\n",
       "\n",
       "    .dataframe tbody tr th {\n",
       "        vertical-align: top;\n",
       "    }\n",
       "\n",
       "    .dataframe thead th {\n",
       "        text-align: right;\n",
       "    }\n",
       "</style>\n",
       "<table border=\"1\" class=\"dataframe\">\n",
       "  <thead>\n",
       "    <tr style=\"text-align: right;\">\n",
       "      <th></th>\n",
       "      <th>loan_amnt</th>\n",
       "      <th>funded_amnt_inv</th>\n",
       "      <th>term</th>\n",
       "      <th>int_rate</th>\n",
       "      <th>installment</th>\n",
       "      <th>grade</th>\n",
       "      <th>emp_length</th>\n",
       "      <th>home_ownership</th>\n",
       "      <th>annual_inc</th>\n",
       "      <th>verification_status</th>\n",
       "      <th>issue_d</th>\n",
       "      <th>loan_status</th>\n",
       "      <th>purpose</th>\n",
       "      <th>zip_code</th>\n",
       "      <th>dti</th>\n",
       "      <th>pub_rec_bankruptcies</th>\n",
       "      <th>issue_d_year</th>\n",
       "      <th>issue_d_month</th>\n",
       "    </tr>\n",
       "  </thead>\n",
       "  <tbody>\n",
       "    <tr>\n",
       "      <th>0</th>\n",
       "      <td>5000</td>\n",
       "      <td>4975</td>\n",
       "      <td>36</td>\n",
       "      <td>10.65</td>\n",
       "      <td>162.87</td>\n",
       "      <td>B</td>\n",
       "      <td>10</td>\n",
       "      <td>RENT</td>\n",
       "      <td>24000</td>\n",
       "      <td>Verified</td>\n",
       "      <td>12-2011</td>\n",
       "      <td>Fully Paid</td>\n",
       "      <td>credit_card</td>\n",
       "      <td>860xx</td>\n",
       "      <td>27.65</td>\n",
       "      <td>0.0</td>\n",
       "      <td>2011</td>\n",
       "      <td>12</td>\n",
       "    </tr>\n",
       "    <tr>\n",
       "      <th>1</th>\n",
       "      <td>2500</td>\n",
       "      <td>2500</td>\n",
       "      <td>60</td>\n",
       "      <td>15.27</td>\n",
       "      <td>59.83</td>\n",
       "      <td>C</td>\n",
       "      <td>0</td>\n",
       "      <td>RENT</td>\n",
       "      <td>30000</td>\n",
       "      <td>Source Verified</td>\n",
       "      <td>12-2011</td>\n",
       "      <td>Charged Off</td>\n",
       "      <td>car</td>\n",
       "      <td>309xx</td>\n",
       "      <td>1.00</td>\n",
       "      <td>0.0</td>\n",
       "      <td>2011</td>\n",
       "      <td>12</td>\n",
       "    </tr>\n",
       "    <tr>\n",
       "      <th>2</th>\n",
       "      <td>2400</td>\n",
       "      <td>2400</td>\n",
       "      <td>36</td>\n",
       "      <td>15.96</td>\n",
       "      <td>84.33</td>\n",
       "      <td>C</td>\n",
       "      <td>10</td>\n",
       "      <td>RENT</td>\n",
       "      <td>12252</td>\n",
       "      <td>Not Verified</td>\n",
       "      <td>12-2011</td>\n",
       "      <td>Fully Paid</td>\n",
       "      <td>small_business</td>\n",
       "      <td>606xx</td>\n",
       "      <td>8.72</td>\n",
       "      <td>0.0</td>\n",
       "      <td>2011</td>\n",
       "      <td>12</td>\n",
       "    </tr>\n",
       "    <tr>\n",
       "      <th>3</th>\n",
       "      <td>10000</td>\n",
       "      <td>10000</td>\n",
       "      <td>36</td>\n",
       "      <td>13.49</td>\n",
       "      <td>339.31</td>\n",
       "      <td>C</td>\n",
       "      <td>10</td>\n",
       "      <td>RENT</td>\n",
       "      <td>49200</td>\n",
       "      <td>Source Verified</td>\n",
       "      <td>12-2011</td>\n",
       "      <td>Fully Paid</td>\n",
       "      <td>other</td>\n",
       "      <td>917xx</td>\n",
       "      <td>20.00</td>\n",
       "      <td>0.0</td>\n",
       "      <td>2011</td>\n",
       "      <td>12</td>\n",
       "    </tr>\n",
       "    <tr>\n",
       "      <th>5</th>\n",
       "      <td>5000</td>\n",
       "      <td>5000</td>\n",
       "      <td>36</td>\n",
       "      <td>7.90</td>\n",
       "      <td>156.46</td>\n",
       "      <td>A</td>\n",
       "      <td>3</td>\n",
       "      <td>RENT</td>\n",
       "      <td>36000</td>\n",
       "      <td>Source Verified</td>\n",
       "      <td>12-2011</td>\n",
       "      <td>Fully Paid</td>\n",
       "      <td>wedding</td>\n",
       "      <td>852xx</td>\n",
       "      <td>11.20</td>\n",
       "      <td>0.0</td>\n",
       "      <td>2011</td>\n",
       "      <td>12</td>\n",
       "    </tr>\n",
       "  </tbody>\n",
       "</table>\n",
       "</div>"
      ],
      "text/plain": [
       "   loan_amnt  funded_amnt_inv term  int_rate  installment grade emp_length  \\\n",
       "0       5000             4975   36     10.65       162.87     B         10   \n",
       "1       2500             2500   60     15.27        59.83     C          0   \n",
       "2       2400             2400   36     15.96        84.33     C         10   \n",
       "3      10000            10000   36     13.49       339.31     C         10   \n",
       "5       5000             5000   36      7.90       156.46     A          3   \n",
       "\n",
       "  home_ownership  annual_inc verification_status  issue_d  loan_status  \\\n",
       "0           RENT       24000            Verified  12-2011   Fully Paid   \n",
       "1           RENT       30000     Source Verified  12-2011  Charged Off   \n",
       "2           RENT       12252        Not Verified  12-2011   Fully Paid   \n",
       "3           RENT       49200     Source Verified  12-2011   Fully Paid   \n",
       "5           RENT       36000     Source Verified  12-2011   Fully Paid   \n",
       "\n",
       "          purpose zip_code    dti  pub_rec_bankruptcies  issue_d_year  \\\n",
       "0     credit_card    860xx  27.65                   0.0          2011   \n",
       "1             car    309xx   1.00                   0.0          2011   \n",
       "2  small_business    606xx   8.72                   0.0          2011   \n",
       "3           other    917xx  20.00                   0.0          2011   \n",
       "5         wedding    852xx  11.20                   0.0          2011   \n",
       "\n",
       "   issue_d_month  \n",
       "0             12  \n",
       "1             12  \n",
       "2             12  \n",
       "3             12  \n",
       "5             12  "
      ]
     },
     "execution_count": 29,
     "metadata": {},
     "output_type": "execute_result"
    }
   ],
   "source": [
    "loan_df.head()"
   ]
  },
  {
   "cell_type": "code",
   "execution_count": 55,
   "id": "66d95672",
   "metadata": {},
   "outputs": [],
   "source": [
    "# Removing outliers for funded_amnt_inv column\n",
    "# Basically those records whose funded_amnt_inv is 0 can not have any int_rate or \n",
    "# loan_status as Fully Paid or charged off. These are clearly wrongly entered data and hence outliers.\n",
    "loan_df = loan_df[loan_df['funded_amnt_inv'] != 0]"
   ]
  },
  {
   "cell_type": "code",
   "execution_count": 56,
   "id": "a18cdc38",
   "metadata": {},
   "outputs": [
    {
     "data": {
      "text/plain": [
       "(38427, 18)"
      ]
     },
     "execution_count": 56,
     "metadata": {},
     "output_type": "execute_result"
    }
   ],
   "source": [
    "loan_df.shape"
   ]
  },
  {
   "cell_type": "code",
   "execution_count": 64,
   "id": "ded71314",
   "metadata": {},
   "outputs": [
    {
     "data": {
      "text/plain": [
       "<AxesSubplot:title={'center':'boxplot'}>"
      ]
     },
     "execution_count": 64,
     "metadata": {},
     "output_type": "execute_result"
    },
    {
     "data": {
      "image/png": "[encoded data removed]",
      "text/plain": [
       "<Figure size 432x288 with 1 Axes>"
      ]
     },
     "metadata": {
      "needs_background": "light"
     },
     "output_type": "display_data"
    }
   ],
   "source": [
    "# EDA: Univariate Analysis\n",
    "# A. Finding outliers in loan_amnt, funded_amnt_inv, annual_inc, int_rate, dti\n",
    "# First checking outliers in loan_amnt and funded_amnt_inv as their ranges are similar\n",
    "loan_df[['loan_amnt', 'funded_amnt_inv']].plot(kind='box', title='boxplot')"
   ]
  },
  {
   "cell_type": "code",
   "execution_count": 65,
   "id": "ffd8e3d0",
   "metadata": {},
   "outputs": [
    {
     "data": {
      "text/plain": [
       "<AxesSubplot:title={'center':'boxplot'}>"
      ]
     },
     "execution_count": 65,
     "metadata": {},
     "output_type": "execute_result"
    },
    {
     "data": {
      "image/png": "[encoded data removed]",
      "text/plain": [
       "<Figure size 432x288 with 1 Axes>"
      ]
     },
     "metadata": {
      "needs_background": "light"
     },
     "output_type": "display_data"
    }
   ],
   "source": [
    "# Data looks fine for loan_amnt and funded_amnt_inv and doesn't seem to have outliers as\n",
    "# data is continuously growing. So not doing anything for these.\n",
    "\n",
    "# Now lests check for int_rate\n",
    "loan_df[['int_rate']].plot(kind='box', title='boxplot')"
   ]
  },
  {
   "cell_type": "code",
   "execution_count": 66,
   "id": "06fb7970",
   "metadata": {},
   "outputs": [
    {
     "data": {
      "text/plain": [
       "<AxesSubplot:title={'center':'boxplot'}>"
      ]
     },
     "execution_count": 66,
     "metadata": {},
     "output_type": "execute_result"
    },
    {
     "data": {
      "image/png": "[encoded data removed]",
      "text/plain": [
       "<Figure size 432x288 with 1 Axes>"
      ]
     },
     "metadata": {
      "needs_background": "light"
     },
     "output_type": "display_data"
    }
   ],
   "source": [
    "# Data looks fine for int_rate and doesn't seem to have outliers as\n",
    "# data is continuously growing. So not doing anything for these.\n",
    "\n",
    "# Now lets check for dti\n",
    "loan_df[['dti']].plot(kind='box', title='boxplot')"
   ]
  },
  {
   "cell_type": "code",
   "execution_count": 67,
   "id": "78a992b8",
   "metadata": {},
   "outputs": [
    {
     "data": {
      "text/plain": [
       "<AxesSubplot:title={'center':'boxplot'}>"
      ]
     },
     "execution_count": 67,
     "metadata": {},
     "output_type": "execute_result"
    },
    {
     "data": {
      "image/png": "[encoded data removed]",
      "text/plain": [
       "<Figure size 432x288 with 1 Axes>"
      ]
     },
     "metadata": {
      "needs_background": "light"
     },
     "output_type": "display_data"
    }
   ],
   "source": [
    "# Data looks fine for dti and doesn't seem to have outliers as\n",
    "# data is continuously growing. So not doing anything for these.\n",
    "\n",
    "# Now lets check for annual_inc\n",
    "loan_df[['annual_inc']].plot(kind='box', title='boxplot')\n"
   ]
  },
  {
   "cell_type": "code",
   "execution_count": 69,
   "id": "e7b7259b",
   "metadata": {},
   "outputs": [
    {
     "data": {
      "text/plain": [
       "0.00       4000.00\n",
       "0.10      30000.00\n",
       "0.20      37200.00\n",
       "0.30      44680.00\n",
       "0.40      50004.00\n",
       "0.50      59000.00\n",
       "0.60      65159.20\n",
       "0.70      75000.00\n",
       "0.80      90000.00\n",
       "0.90     115172.40\n",
       "0.91     120000.00\n",
       "0.92     122004.00\n",
       "0.93     127786.18\n",
       "0.94     134609.12\n",
       "0.95     140004.00\n",
       "0.96     150000.00\n",
       "0.97     165000.00\n",
       "0.98     187000.00\n",
       "0.99     234444.00\n",
       "1.00    6000000.00\n",
       "Name: annual_inc, dtype: float64"
      ]
     },
     "execution_count": 69,
     "metadata": {},
     "output_type": "execute_result"
    }
   ],
   "source": [
    "# We could see clearly see outliers, lets find the range to drop\n",
    "outlier_finder_range = [0, 0.1, 0.2, 0.3, 0.4, 0.5, 0.6, 0.7, 0.8, 0.9, 0.91, 0.92, 0.93, 0.94, 0.95, 0.96, 0.97, 0.98, 0.99, 1]\n",
    "loan_df.annual_inc.quantile(outlier_finder_range)"
   ]
  },
  {
   "cell_type": "code",
   "execution_count": 70,
   "id": "9ec056c6",
   "metadata": {},
   "outputs": [],
   "source": [
    "# We can clearly see that data after 95% or 0.95 is in range of outlier\n",
    "outlier_quatile_annual_inc = loan_df['annual_inc'].quantile(0.95)\n",
    "loan_df = loan_df[loan_df.annual_inc <= outlier_quatile_annual_inc]"
   ]
  },
  {
   "cell_type": "code",
   "execution_count": 71,
   "id": "2f77d380",
   "metadata": {},
   "outputs": [
    {
     "data": {
      "text/plain": [
       "(36509, 18)"
      ]
     },
     "execution_count": 71,
     "metadata": {},
     "output_type": "execute_result"
    }
   ],
   "source": [
    "loan_df.shape"
   ]
  },
  {
   "cell_type": "code",
   "execution_count": 72,
   "id": "ebfce4da",
   "metadata": {},
   "outputs": [],
   "source": [
    "# We created the modified csv to analyze on smaller data\n",
    "# loan_df.to_csv('modified_loan.csv', index = None, header=True)"
   ]
  },
  {
   "cell_type": "code",
   "execution_count": 73,
   "id": "cdf37d72",
   "metadata": {},
   "outputs": [
    {
     "data": {
      "text/html": [
       "<div>\n",
       "<style scoped>\n",
       "    .dataframe tbody tr th:only-of-type {\n",
       "        vertical-align: middle;\n",
       "    }\n",
       "\n",
       "    .dataframe tbody tr th {\n",
       "        vertical-align: top;\n",
       "    }\n",
       "\n",
       "    .dataframe thead th {\n",
       "        text-align: right;\n",
       "    }\n",
       "</style>\n",
       "<table border=\"1\" class=\"dataframe\">\n",
       "  <thead>\n",
       "    <tr style=\"text-align: right;\">\n",
       "      <th></th>\n",
       "      <th>loan_amnt</th>\n",
       "      <th>funded_amnt_inv</th>\n",
       "      <th>term</th>\n",
       "      <th>int_rate</th>\n",
       "      <th>installment</th>\n",
       "      <th>grade</th>\n",
       "      <th>emp_length</th>\n",
       "      <th>home_ownership</th>\n",
       "      <th>annual_inc</th>\n",
       "      <th>verification_status</th>\n",
       "      <th>issue_d</th>\n",
       "      <th>loan_status</th>\n",
       "      <th>purpose</th>\n",
       "      <th>zip_code</th>\n",
       "      <th>dti</th>\n",
       "      <th>pub_rec_bankruptcies</th>\n",
       "      <th>issue_d_year</th>\n",
       "      <th>issue_d_month</th>\n",
       "    </tr>\n",
       "  </thead>\n",
       "  <tbody>\n",
       "    <tr>\n",
       "      <th>0</th>\n",
       "      <td>5000</td>\n",
       "      <td>4975</td>\n",
       "      <td>36</td>\n",
       "      <td>10.65</td>\n",
       "      <td>162.87</td>\n",
       "      <td>B</td>\n",
       "      <td>10</td>\n",
       "      <td>RENT</td>\n",
       "      <td>24000</td>\n",
       "      <td>Verified</td>\n",
       "      <td>12-2011</td>\n",
       "      <td>Fully Paid</td>\n",
       "      <td>credit_card</td>\n",
       "      <td>860xx</td>\n",
       "      <td>27.65</td>\n",
       "      <td>0.0</td>\n",
       "      <td>2011</td>\n",
       "      <td>12</td>\n",
       "    </tr>\n",
       "    <tr>\n",
       "      <th>1</th>\n",
       "      <td>2500</td>\n",
       "      <td>2500</td>\n",
       "      <td>60</td>\n",
       "      <td>15.27</td>\n",
       "      <td>59.83</td>\n",
       "      <td>C</td>\n",
       "      <td>0</td>\n",
       "      <td>RENT</td>\n",
       "      <td>30000</td>\n",
       "      <td>Source Verified</td>\n",
       "      <td>12-2011</td>\n",
       "      <td>Charged Off</td>\n",
       "      <td>car</td>\n",
       "      <td>309xx</td>\n",
       "      <td>1.00</td>\n",
       "      <td>0.0</td>\n",
       "      <td>2011</td>\n",
       "      <td>12</td>\n",
       "    </tr>\n",
       "    <tr>\n",
       "      <th>2</th>\n",
       "      <td>2400</td>\n",
       "      <td>2400</td>\n",
       "      <td>36</td>\n",
       "      <td>15.96</td>\n",
       "      <td>84.33</td>\n",
       "      <td>C</td>\n",
       "      <td>10</td>\n",
       "      <td>RENT</td>\n",
       "      <td>12252</td>\n",
       "      <td>Not Verified</td>\n",
       "      <td>12-2011</td>\n",
       "      <td>Fully Paid</td>\n",
       "      <td>small_business</td>\n",
       "      <td>606xx</td>\n",
       "      <td>8.72</td>\n",
       "      <td>0.0</td>\n",
       "      <td>2011</td>\n",
       "      <td>12</td>\n",
       "    </tr>\n",
       "    <tr>\n",
       "      <th>3</th>\n",
       "      <td>10000</td>\n",
       "      <td>10000</td>\n",
       "      <td>36</td>\n",
       "      <td>13.49</td>\n",
       "      <td>339.31</td>\n",
       "      <td>C</td>\n",
       "      <td>10</td>\n",
       "      <td>RENT</td>\n",
       "      <td>49200</td>\n",
       "      <td>Source Verified</td>\n",
       "      <td>12-2011</td>\n",
       "      <td>Fully Paid</td>\n",
       "      <td>other</td>\n",
       "      <td>917xx</td>\n",
       "      <td>20.00</td>\n",
       "      <td>0.0</td>\n",
       "      <td>2011</td>\n",
       "      <td>12</td>\n",
       "    </tr>\n",
       "    <tr>\n",
       "      <th>5</th>\n",
       "      <td>5000</td>\n",
       "      <td>5000</td>\n",
       "      <td>36</td>\n",
       "      <td>7.90</td>\n",
       "      <td>156.46</td>\n",
       "      <td>A</td>\n",
       "      <td>3</td>\n",
       "      <td>RENT</td>\n",
       "      <td>36000</td>\n",
       "      <td>Source Verified</td>\n",
       "      <td>12-2011</td>\n",
       "      <td>Fully Paid</td>\n",
       "      <td>wedding</td>\n",
       "      <td>852xx</td>\n",
       "      <td>11.20</td>\n",
       "      <td>0.0</td>\n",
       "      <td>2011</td>\n",
       "      <td>12</td>\n",
       "    </tr>\n",
       "  </tbody>\n",
       "</table>\n",
       "</div>"
      ],
      "text/plain": [
       "   loan_amnt  funded_amnt_inv term  int_rate  installment grade emp_length  \\\n",
       "0       5000             4975   36     10.65       162.87     B         10   \n",
       "1       2500             2500   60     15.27        59.83     C          0   \n",
       "2       2400             2400   36     15.96        84.33     C         10   \n",
       "3      10000            10000   36     13.49       339.31     C         10   \n",
       "5       5000             5000   36      7.90       156.46     A          3   \n",
       "\n",
       "  home_ownership  annual_inc verification_status  issue_d  loan_status  \\\n",
       "0           RENT       24000            Verified  12-2011   Fully Paid   \n",
       "1           RENT       30000     Source Verified  12-2011  Charged Off   \n",
       "2           RENT       12252        Not Verified  12-2011   Fully Paid   \n",
       "3           RENT       49200     Source Verified  12-2011   Fully Paid   \n",
       "5           RENT       36000     Source Verified  12-2011   Fully Paid   \n",
       "\n",
       "          purpose zip_code    dti  pub_rec_bankruptcies  issue_d_year  \\\n",
       "0     credit_card    860xx  27.65                   0.0          2011   \n",
       "1             car    309xx   1.00                   0.0          2011   \n",
       "2  small_business    606xx   8.72                   0.0          2011   \n",
       "3           other    917xx  20.00                   0.0          2011   \n",
       "5         wedding    852xx  11.20                   0.0          2011   \n",
       "\n",
       "   issue_d_month  \n",
       "0             12  \n",
       "1             12  \n",
       "2             12  \n",
       "3             12  \n",
       "5             12  "
      ]
     },
     "execution_count": 73,
     "metadata": {},
     "output_type": "execute_result"
    }
   ],
   "source": [
    "loan_df.head()"
   ]
  },
  {
   "cell_type": "code",
   "execution_count": null,
   "id": "0fc8773d",
   "metadata": {},
   "outputs": [],
   "source": [
    "# EDA: Bivariate Analysis\n",
    "# We will compare loan_status with rest of the features/columns to find the Defaulter pattern\n",
    "# We have 2 status for loan_status : Charged Off and Fully Paid\n",
    "# We will compare results of both Charged Off and Fully Paid to discover correct pattern\n",
    "# else it may be possible that we may find a pattern for Charged Off that also exists for Fully Paid\n"
   ]
  }
 ],
 "metadata": {
  "kernelspec": {
   "display_name": "Python 3 (ipykernel)",
   "language": "python",
   "name": "python3"
  },
  "language_info": {
   "codemirror_mode": {
    "name": "ipython",
    "version": 3
   },
   "file_extension": ".py",
   "mimetype": "text/x-python",
   "name": "python",
   "nbconvert_exporter": "python",
   "pygments_lexer": "ipython3",
   "version": "3.9.7"
  }
 },
 "nbformat": 4,
 "nbformat_minor": 5
}
