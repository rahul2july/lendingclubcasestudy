{
 "cells": [
  {
   "cell_type": "code",
   "execution_count": 370,
   "id": "72e4ecf2-2004-4bd5-99c5-a17b3da77208",
   "metadata": {},
   "outputs": [],
   "source": [
    "import matplotlib.pyplot as plt\n",
    "import numpy as np\n",
    "import pandas as pd\n",
    "import seaborn as sns\n",
    "\n",
    "from datetime import datetime\n",
    "from dateutil import parser"
   ]
  },
  {
   "cell_type": "code",
   "execution_count": 371,
   "id": "28209e24-9fe1-483e-b7bb-11e096e8613e",
   "metadata": {},
   "outputs": [
    {
     "name": "stdout",
     "output_type": "stream",
     "text": [
      "        id  member_id  loan_amnt  funded_amnt  funded_amnt_inv        term  \\\n",
      "0  1077501    1296599       5000         5000           4975.0   36 months   \n",
      "1  1077430    1314167       2500         2500           2500.0   60 months   \n",
      "2  1077175    1313524       2400         2400           2400.0   36 months   \n",
      "3  1076863    1277178      10000        10000          10000.0   36 months   \n",
      "4  1075358    1311748       3000         3000           3000.0   60 months   \n",
      "\n",
      "  int_rate  installment grade sub_grade  ... num_tl_90g_dpd_24m  \\\n",
      "0   10.65%       162.87     B        B2  ...                NaN   \n",
      "1   15.27%        59.83     C        C4  ...                NaN   \n",
      "2   15.96%        84.33     C        C5  ...                NaN   \n",
      "3   13.49%       339.31     C        C1  ...                NaN   \n",
      "4   12.69%        67.79     B        B5  ...                NaN   \n",
      "\n",
      "  num_tl_op_past_12m pct_tl_nvr_dlq  percent_bc_gt_75 pub_rec_bankruptcies  \\\n",
      "0                NaN            NaN               NaN                  0.0   \n",
      "1                NaN            NaN               NaN                  0.0   \n",
      "2                NaN            NaN               NaN                  0.0   \n",
      "3                NaN            NaN               NaN                  0.0   \n",
      "4                NaN            NaN               NaN                  0.0   \n",
      "\n",
      "  tax_liens tot_hi_cred_lim total_bal_ex_mort total_bc_limit  \\\n",
      "0       0.0             NaN               NaN            NaN   \n",
      "1       0.0             NaN               NaN            NaN   \n",
      "2       0.0             NaN               NaN            NaN   \n",
      "3       0.0             NaN               NaN            NaN   \n",
      "4       0.0             NaN               NaN            NaN   \n",
      "\n",
      "  total_il_high_credit_limit  \n",
      "0                        NaN  \n",
      "1                        NaN  \n",
      "2                        NaN  \n",
      "3                        NaN  \n",
      "4                        NaN  \n",
      "\n",
      "[5 rows x 111 columns]\n"
     ]
    }
   ],
   "source": [
    "# Loading data in data frame\n",
    "# EDA: Data sourcing\n",
    "loan_df = pd.read_csv(\"loan.csv\", header=0, low_memory=False)\n",
    "print (loan_df.head())"
   ]
  },
  {
   "cell_type": "code",
   "execution_count": 372,
   "id": "4fc5bbb6-a9b5-4191-bfde-bb00eb739b3c",
   "metadata": {},
   "outputs": [
    {
     "data": {
      "text/plain": [
       "(39717, 111)"
      ]
     },
     "execution_count": 372,
     "metadata": {},
     "output_type": "execute_result"
    }
   ],
   "source": [
    "loan_df.shape\n"
   ]
  },
  {
   "cell_type": "code",
   "execution_count": 373,
   "id": "3cdd8d46-4d4b-4b15-8c15-c32a3c22aec4",
   "metadata": {},
   "outputs": [
    {
     "data": {
      "text/plain": [
       "Index(['id', 'member_id', 'loan_amnt', 'funded_amnt', 'funded_amnt_inv',\n",
       "       'term', 'int_rate', 'installment', 'grade', 'sub_grade',\n",
       "       ...\n",
       "       'num_tl_90g_dpd_24m', 'num_tl_op_past_12m', 'pct_tl_nvr_dlq',\n",
       "       'percent_bc_gt_75', 'pub_rec_bankruptcies', 'tax_liens',\n",
       "       'tot_hi_cred_lim', 'total_bal_ex_mort', 'total_bc_limit',\n",
       "       'total_il_high_credit_limit'],\n",
       "      dtype='object', length=111)"
      ]
     },
     "execution_count": 373,
     "metadata": {},
     "output_type": "execute_result"
    }
   ],
   "source": [
    "loan_df.columns"
   ]
  },
  {
   "cell_type": "code",
   "execution_count": 374,
   "id": "d9cde3a7-98e7-4633-92c9-85076de24b3e",
   "metadata": {},
   "outputs": [],
   "source": [
    "# EDA: Data Cleaning\n",
    "# Filtering columns which should be dropped from the dataset which have NA only\n",
    "# Eg: Columns we got from the excel: AJ + AY onwards \n",
    "loan_df.dropna(how='all', axis='columns', inplace=True)        "
   ]
  },
  {
   "cell_type": "code",
   "execution_count": 375,
   "id": "96066e80",
   "metadata": {},
   "outputs": [
    {
     "data": {
      "text/plain": [
       "(39717, 57)"
      ]
     },
     "execution_count": 375,
     "metadata": {},
     "output_type": "execute_result"
    }
   ],
   "source": [
    "loan_df.shape"
   ]
  },
  {
   "cell_type": "code",
   "execution_count": 376,
   "id": "ad5bf90a",
   "metadata": {},
   "outputs": [
    {
     "data": {
      "text/html": [
       "<div>\n",
       "<style scoped>\n",
       "    .dataframe tbody tr th:only-of-type {\n",
       "        vertical-align: middle;\n",
       "    }\n",
       "\n",
       "    .dataframe tbody tr th {\n",
       "        vertical-align: top;\n",
       "    }\n",
       "\n",
       "    .dataframe thead th {\n",
       "        text-align: right;\n",
       "    }\n",
       "</style>\n",
       "<table border=\"1\" class=\"dataframe\">\n",
       "  <thead>\n",
       "    <tr style=\"text-align: right;\">\n",
       "      <th></th>\n",
       "      <th>id</th>\n",
       "      <th>member_id</th>\n",
       "      <th>loan_amnt</th>\n",
       "      <th>funded_amnt</th>\n",
       "      <th>funded_amnt_inv</th>\n",
       "      <th>term</th>\n",
       "      <th>int_rate</th>\n",
       "      <th>installment</th>\n",
       "      <th>grade</th>\n",
       "      <th>sub_grade</th>\n",
       "      <th>...</th>\n",
       "      <th>next_pymnt_d</th>\n",
       "      <th>last_credit_pull_d</th>\n",
       "      <th>collections_12_mths_ex_med</th>\n",
       "      <th>policy_code</th>\n",
       "      <th>application_type</th>\n",
       "      <th>acc_now_delinq</th>\n",
       "      <th>chargeoff_within_12_mths</th>\n",
       "      <th>delinq_amnt</th>\n",
       "      <th>pub_rec_bankruptcies</th>\n",
       "      <th>tax_liens</th>\n",
       "    </tr>\n",
       "  </thead>\n",
       "  <tbody>\n",
       "    <tr>\n",
       "      <th>0</th>\n",
       "      <td>1077501</td>\n",
       "      <td>1296599</td>\n",
       "      <td>5000</td>\n",
       "      <td>5000</td>\n",
       "      <td>4975.0</td>\n",
       "      <td>36 months</td>\n",
       "      <td>10.65%</td>\n",
       "      <td>162.87</td>\n",
       "      <td>B</td>\n",
       "      <td>B2</td>\n",
       "      <td>...</td>\n",
       "      <td>NaN</td>\n",
       "      <td>May-16</td>\n",
       "      <td>0.0</td>\n",
       "      <td>1</td>\n",
       "      <td>INDIVIDUAL</td>\n",
       "      <td>0</td>\n",
       "      <td>0.0</td>\n",
       "      <td>0</td>\n",
       "      <td>0.0</td>\n",
       "      <td>0.0</td>\n",
       "    </tr>\n",
       "    <tr>\n",
       "      <th>1</th>\n",
       "      <td>1077430</td>\n",
       "      <td>1314167</td>\n",
       "      <td>2500</td>\n",
       "      <td>2500</td>\n",
       "      <td>2500.0</td>\n",
       "      <td>60 months</td>\n",
       "      <td>15.27%</td>\n",
       "      <td>59.83</td>\n",
       "      <td>C</td>\n",
       "      <td>C4</td>\n",
       "      <td>...</td>\n",
       "      <td>NaN</td>\n",
       "      <td>Sept-13</td>\n",
       "      <td>0.0</td>\n",
       "      <td>1</td>\n",
       "      <td>INDIVIDUAL</td>\n",
       "      <td>0</td>\n",
       "      <td>0.0</td>\n",
       "      <td>0</td>\n",
       "      <td>0.0</td>\n",
       "      <td>0.0</td>\n",
       "    </tr>\n",
       "    <tr>\n",
       "      <th>2</th>\n",
       "      <td>1077175</td>\n",
       "      <td>1313524</td>\n",
       "      <td>2400</td>\n",
       "      <td>2400</td>\n",
       "      <td>2400.0</td>\n",
       "      <td>36 months</td>\n",
       "      <td>15.96%</td>\n",
       "      <td>84.33</td>\n",
       "      <td>C</td>\n",
       "      <td>C5</td>\n",
       "      <td>...</td>\n",
       "      <td>NaN</td>\n",
       "      <td>May-16</td>\n",
       "      <td>0.0</td>\n",
       "      <td>1</td>\n",
       "      <td>INDIVIDUAL</td>\n",
       "      <td>0</td>\n",
       "      <td>0.0</td>\n",
       "      <td>0</td>\n",
       "      <td>0.0</td>\n",
       "      <td>0.0</td>\n",
       "    </tr>\n",
       "    <tr>\n",
       "      <th>3</th>\n",
       "      <td>1076863</td>\n",
       "      <td>1277178</td>\n",
       "      <td>10000</td>\n",
       "      <td>10000</td>\n",
       "      <td>10000.0</td>\n",
       "      <td>36 months</td>\n",
       "      <td>13.49%</td>\n",
       "      <td>339.31</td>\n",
       "      <td>C</td>\n",
       "      <td>C1</td>\n",
       "      <td>...</td>\n",
       "      <td>NaN</td>\n",
       "      <td>Apr-16</td>\n",
       "      <td>0.0</td>\n",
       "      <td>1</td>\n",
       "      <td>INDIVIDUAL</td>\n",
       "      <td>0</td>\n",
       "      <td>0.0</td>\n",
       "      <td>0</td>\n",
       "      <td>0.0</td>\n",
       "      <td>0.0</td>\n",
       "    </tr>\n",
       "    <tr>\n",
       "      <th>4</th>\n",
       "      <td>1075358</td>\n",
       "      <td>1311748</td>\n",
       "      <td>3000</td>\n",
       "      <td>3000</td>\n",
       "      <td>3000.0</td>\n",
       "      <td>60 months</td>\n",
       "      <td>12.69%</td>\n",
       "      <td>67.79</td>\n",
       "      <td>B</td>\n",
       "      <td>B5</td>\n",
       "      <td>...</td>\n",
       "      <td>Jun-16</td>\n",
       "      <td>May-16</td>\n",
       "      <td>0.0</td>\n",
       "      <td>1</td>\n",
       "      <td>INDIVIDUAL</td>\n",
       "      <td>0</td>\n",
       "      <td>0.0</td>\n",
       "      <td>0</td>\n",
       "      <td>0.0</td>\n",
       "      <td>0.0</td>\n",
       "    </tr>\n",
       "  </tbody>\n",
       "</table>\n",
       "<p>5 rows × 57 columns</p>\n",
       "</div>"
      ],
      "text/plain": [
       "        id  member_id  loan_amnt  funded_amnt  funded_amnt_inv        term  \\\n",
       "0  1077501    1296599       5000         5000           4975.0   36 months   \n",
       "1  1077430    1314167       2500         2500           2500.0   60 months   \n",
       "2  1077175    1313524       2400         2400           2400.0   36 months   \n",
       "3  1076863    1277178      10000        10000          10000.0   36 months   \n",
       "4  1075358    1311748       3000         3000           3000.0   60 months   \n",
       "\n",
       "  int_rate  installment grade sub_grade  ... next_pymnt_d last_credit_pull_d  \\\n",
       "0   10.65%       162.87     B        B2  ...          NaN             May-16   \n",
       "1   15.27%        59.83     C        C4  ...          NaN            Sept-13   \n",
       "2   15.96%        84.33     C        C5  ...          NaN             May-16   \n",
       "3   13.49%       339.31     C        C1  ...          NaN             Apr-16   \n",
       "4   12.69%        67.79     B        B5  ...       Jun-16             May-16   \n",
       "\n",
       "  collections_12_mths_ex_med  policy_code application_type acc_now_delinq  \\\n",
       "0                        0.0            1       INDIVIDUAL              0   \n",
       "1                        0.0            1       INDIVIDUAL              0   \n",
       "2                        0.0            1       INDIVIDUAL              0   \n",
       "3                        0.0            1       INDIVIDUAL              0   \n",
       "4                        0.0            1       INDIVIDUAL              0   \n",
       "\n",
       "  chargeoff_within_12_mths delinq_amnt pub_rec_bankruptcies tax_liens  \n",
       "0                      0.0           0                  0.0       0.0  \n",
       "1                      0.0           0                  0.0       0.0  \n",
       "2                      0.0           0                  0.0       0.0  \n",
       "3                      0.0           0                  0.0       0.0  \n",
       "4                      0.0           0                  0.0       0.0  \n",
       "\n",
       "[5 rows x 57 columns]"
      ]
     },
     "execution_count": 376,
     "metadata": {},
     "output_type": "execute_result"
    }
   ],
   "source": [
    "loan_df.head()"
   ]
  },
  {
   "cell_type": "code",
   "execution_count": 377,
   "id": "c847a26d",
   "metadata": {},
   "outputs": [],
   "source": [
    "# columns_to_drop contains list of columns to be filtered - either they have same value or \n",
    "# don't contribute in analysis \n",
    "# member_id may not be useful but we are keeping it to have a record identifier\n",
    "# The customer variables are not available at the time of loan processing and thats why excluding them\n",
    "# funded_amnt is the amount which reviewer says but actual value is given by funded_amnt_inv which we have\n",
    "# Hence we are dropping funded_amnt\n",
    "columns_to_drop = [\n",
    "                   'id', 'member_id', 'emp_title', 'pymnt_plan', 'url', 'desc', 'title', 'addr_state', \n",
    "                   'initial_list_status', 'collections_12_mths_ex_med', 'policy_code', \n",
    "                   'application_type', 'acc_now_delinq', 'chargeoff_within_12_mths',\n",
    "                   'delinq_amnt', 'tax_liens','collection_recovery_fee', 'inq_last_6mths',\n",
    "                   'pymnt_plan', 'sub_grade', 'delinq_2yrs', 'earliest_cr_line', 'open_acc',\n",
    "                   'pub_rec', 'revol_bal', 'revol_util', 'total_acc', 'out_prncp', 'out_prncp_inv',\n",
    "                    'total_pymnt', 'total_pymnt_inv', 'total_rec_prncp', 'total_rec_int',\n",
    "                    'total_rec_late_fee', 'recoveries', 'last_pymnt_d', 'last_pymnt_amnt',\n",
    "                    'last_credit_pull_d', 'funded_amnt' \n",
    "                  ]\n",
    "loan_df.drop(columns_to_drop, axis = 1, inplace = True)"
   ]
  },
  {
   "cell_type": "code",
   "execution_count": 378,
   "id": "75d95f19",
   "metadata": {},
   "outputs": [
    {
     "data": {
      "text/plain": [
       "(39717, 19)"
      ]
     },
     "execution_count": 378,
     "metadata": {},
     "output_type": "execute_result"
    }
   ],
   "source": [
    "loan_df.shape"
   ]
  },
  {
   "cell_type": "code",
   "execution_count": 379,
   "id": "d144061a",
   "metadata": {},
   "outputs": [
    {
     "data": {
      "text/plain": [
       "Index(['loan_amnt', 'funded_amnt_inv', 'term', 'int_rate', 'installment',\n",
       "       'grade', 'emp_length', 'home_ownership', 'annual_inc',\n",
       "       'verification_status', 'issue_d', 'loan_status', 'purpose', 'zip_code',\n",
       "       'dti', 'mths_since_last_delinq', 'mths_since_last_record',\n",
       "       'next_pymnt_d', 'pub_rec_bankruptcies'],\n",
       "      dtype='object')"
      ]
     },
     "execution_count": 379,
     "metadata": {},
     "output_type": "execute_result"
    }
   ],
   "source": [
    "loan_df.columns"
   ]
  },
  {
   "cell_type": "code",
   "execution_count": 380,
   "id": "547f7e04",
   "metadata": {},
   "outputs": [],
   "source": [
    "# Before doing any further analysis getting rid of records having loan_status as current\n",
    "# we are removing this because this we can't predict the behaiour here.\n",
    "loan_df = loan_df[loan_df.loan_status != \"Current\"]"
   ]
  },
  {
   "cell_type": "code",
   "execution_count": 381,
   "id": "ad2e871f",
   "metadata": {},
   "outputs": [
    {
     "data": {
      "text/plain": [
       "(38577, 19)"
      ]
     },
     "execution_count": 381,
     "metadata": {},
     "output_type": "execute_result"
    }
   ],
   "source": [
    "loan_df.shape"
   ]
  },
  {
   "cell_type": "code",
   "execution_count": 382,
   "id": "79b80972",
   "metadata": {},
   "outputs": [],
   "source": [
    "# Now lets clean up/ modify few columns based on % missing data\n",
    "missing_data = (loan_df.isna().sum()/len(loan_df.index))*100\n",
    "\n",
    "cols_gt_60_percent = []\n",
    "for k,v in missing_data.items():\n",
    "    if v > 60:\n",
    "        cols_gt_60_percent.append(k)\n",
    "\n",
    "# mths_since_last_delinq     64.559193\n",
    "# mths_since_last_record     92.897322\n",
    "# next_pymnt_d              100.000000 < -- this is not given correctly by pandas lib\n",
    "loan_df.drop(cols_gt_60_percent, axis = 1, inplace = True)"
   ]
  },
  {
   "cell_type": "code",
   "execution_count": 383,
   "id": "af99d6de",
   "metadata": {},
   "outputs": [
    {
     "data": {
      "text/plain": [
       "(38577, 16)"
      ]
     },
     "execution_count": 383,
     "metadata": {},
     "output_type": "execute_result"
    }
   ],
   "source": [
    "loan_df.shape"
   ]
  },
  {
   "cell_type": "code",
   "execution_count": 384,
   "id": "1ff15e79",
   "metadata": {},
   "outputs": [],
   "source": [
    "# Removing months word from term column\n",
    "loan_df['term'] = list(map(lambda a:a.split(' ')[1], loan_df['term']))"
   ]
  },
  {
   "cell_type": "code",
   "execution_count": 385,
   "id": "c6a40d98",
   "metadata": {},
   "outputs": [
    {
     "data": {
      "text/html": [
       "<div>\n",
       "<style scoped>\n",
       "    .dataframe tbody tr th:only-of-type {\n",
       "        vertical-align: middle;\n",
       "    }\n",
       "\n",
       "    .dataframe tbody tr th {\n",
       "        vertical-align: top;\n",
       "    }\n",
       "\n",
       "    .dataframe thead th {\n",
       "        text-align: right;\n",
       "    }\n",
       "</style>\n",
       "<table border=\"1\" class=\"dataframe\">\n",
       "  <thead>\n",
       "    <tr style=\"text-align: right;\">\n",
       "      <th></th>\n",
       "      <th>loan_amnt</th>\n",
       "      <th>funded_amnt_inv</th>\n",
       "      <th>term</th>\n",
       "      <th>int_rate</th>\n",
       "      <th>installment</th>\n",
       "      <th>grade</th>\n",
       "      <th>emp_length</th>\n",
       "      <th>home_ownership</th>\n",
       "      <th>annual_inc</th>\n",
       "      <th>verification_status</th>\n",
       "      <th>issue_d</th>\n",
       "      <th>loan_status</th>\n",
       "      <th>purpose</th>\n",
       "      <th>zip_code</th>\n",
       "      <th>dti</th>\n",
       "      <th>pub_rec_bankruptcies</th>\n",
       "    </tr>\n",
       "  </thead>\n",
       "  <tbody>\n",
       "    <tr>\n",
       "      <th>0</th>\n",
       "      <td>5000</td>\n",
       "      <td>4975.0</td>\n",
       "      <td>36</td>\n",
       "      <td>10.65%</td>\n",
       "      <td>162.87</td>\n",
       "      <td>B</td>\n",
       "      <td>10+ years</td>\n",
       "      <td>RENT</td>\n",
       "      <td>24000.0</td>\n",
       "      <td>Verified</td>\n",
       "      <td>Dec-11</td>\n",
       "      <td>Fully Paid</td>\n",
       "      <td>credit_card</td>\n",
       "      <td>860xx</td>\n",
       "      <td>27.65</td>\n",
       "      <td>0.0</td>\n",
       "    </tr>\n",
       "    <tr>\n",
       "      <th>1</th>\n",
       "      <td>2500</td>\n",
       "      <td>2500.0</td>\n",
       "      <td>60</td>\n",
       "      <td>15.27%</td>\n",
       "      <td>59.83</td>\n",
       "      <td>C</td>\n",
       "      <td>&lt; 1 year</td>\n",
       "      <td>RENT</td>\n",
       "      <td>30000.0</td>\n",
       "      <td>Source Verified</td>\n",
       "      <td>Dec-11</td>\n",
       "      <td>Charged Off</td>\n",
       "      <td>car</td>\n",
       "      <td>309xx</td>\n",
       "      <td>1.00</td>\n",
       "      <td>0.0</td>\n",
       "    </tr>\n",
       "    <tr>\n",
       "      <th>2</th>\n",
       "      <td>2400</td>\n",
       "      <td>2400.0</td>\n",
       "      <td>36</td>\n",
       "      <td>15.96%</td>\n",
       "      <td>84.33</td>\n",
       "      <td>C</td>\n",
       "      <td>10+ years</td>\n",
       "      <td>RENT</td>\n",
       "      <td>12252.0</td>\n",
       "      <td>Not Verified</td>\n",
       "      <td>Dec-11</td>\n",
       "      <td>Fully Paid</td>\n",
       "      <td>small_business</td>\n",
       "      <td>606xx</td>\n",
       "      <td>8.72</td>\n",
       "      <td>0.0</td>\n",
       "    </tr>\n",
       "    <tr>\n",
       "      <th>3</th>\n",
       "      <td>10000</td>\n",
       "      <td>10000.0</td>\n",
       "      <td>36</td>\n",
       "      <td>13.49%</td>\n",
       "      <td>339.31</td>\n",
       "      <td>C</td>\n",
       "      <td>10+ years</td>\n",
       "      <td>RENT</td>\n",
       "      <td>49200.0</td>\n",
       "      <td>Source Verified</td>\n",
       "      <td>Dec-11</td>\n",
       "      <td>Fully Paid</td>\n",
       "      <td>other</td>\n",
       "      <td>917xx</td>\n",
       "      <td>20.00</td>\n",
       "      <td>0.0</td>\n",
       "    </tr>\n",
       "    <tr>\n",
       "      <th>5</th>\n",
       "      <td>5000</td>\n",
       "      <td>5000.0</td>\n",
       "      <td>36</td>\n",
       "      <td>7.90%</td>\n",
       "      <td>156.46</td>\n",
       "      <td>A</td>\n",
       "      <td>3 years</td>\n",
       "      <td>RENT</td>\n",
       "      <td>36000.0</td>\n",
       "      <td>Source Verified</td>\n",
       "      <td>Dec-11</td>\n",
       "      <td>Fully Paid</td>\n",
       "      <td>wedding</td>\n",
       "      <td>852xx</td>\n",
       "      <td>11.20</td>\n",
       "      <td>0.0</td>\n",
       "    </tr>\n",
       "  </tbody>\n",
       "</table>\n",
       "</div>"
      ],
      "text/plain": [
       "   loan_amnt  funded_amnt_inv term int_rate  installment grade emp_length  \\\n",
       "0       5000           4975.0   36   10.65%       162.87     B  10+ years   \n",
       "1       2500           2500.0   60   15.27%        59.83     C   < 1 year   \n",
       "2       2400           2400.0   36   15.96%        84.33     C  10+ years   \n",
       "3      10000          10000.0   36   13.49%       339.31     C  10+ years   \n",
       "5       5000           5000.0   36    7.90%       156.46     A    3 years   \n",
       "\n",
       "  home_ownership  annual_inc verification_status issue_d  loan_status  \\\n",
       "0           RENT     24000.0            Verified  Dec-11   Fully Paid   \n",
       "1           RENT     30000.0     Source Verified  Dec-11  Charged Off   \n",
       "2           RENT     12252.0        Not Verified  Dec-11   Fully Paid   \n",
       "3           RENT     49200.0     Source Verified  Dec-11   Fully Paid   \n",
       "5           RENT     36000.0     Source Verified  Dec-11   Fully Paid   \n",
       "\n",
       "          purpose zip_code    dti  pub_rec_bankruptcies  \n",
       "0     credit_card    860xx  27.65                   0.0  \n",
       "1             car    309xx   1.00                   0.0  \n",
       "2  small_business    606xx   8.72                   0.0  \n",
       "3           other    917xx  20.00                   0.0  \n",
       "5         wedding    852xx  11.20                   0.0  "
      ]
     },
     "execution_count": 385,
     "metadata": {},
     "output_type": "execute_result"
    }
   ],
   "source": [
    "loan_df.head()"
   ]
  },
  {
   "cell_type": "code",
   "execution_count": 386,
   "id": "176150b2",
   "metadata": {},
   "outputs": [],
   "source": [
    "# Removing % from int_rate and converting result to a float\n",
    "loan_df['int_rate'] = list(map(lambda a:float(a.split('%')[0]), loan_df['int_rate']))"
   ]
  },
  {
   "cell_type": "code",
   "execution_count": 387,
   "id": "8d09a9a8",
   "metadata": {},
   "outputs": [],
   "source": [
    "# converting annual_inc and funded_amnt_inv to int as there are very few having float values\n",
    "loan_df['annual_inc'] = list(map(lambda a:int(a), loan_df['annual_inc']))\n",
    "loan_df['funded_amnt_inv'] = list(map(lambda a:int(a), loan_df['funded_amnt_inv']))"
   ]
  },
  {
   "cell_type": "code",
   "execution_count": 388,
   "id": "5b77a1f3",
   "metadata": {},
   "outputs": [
    {
     "data": {
      "text/plain": [
       "loan_amnt                  0\n",
       "funded_amnt_inv            0\n",
       "term                       0\n",
       "int_rate                   0\n",
       "installment                0\n",
       "grade                      0\n",
       "emp_length              1033\n",
       "home_ownership             0\n",
       "annual_inc                 0\n",
       "verification_status        0\n",
       "issue_d                    0\n",
       "loan_status                0\n",
       "purpose                    0\n",
       "zip_code                   0\n",
       "dti                        0\n",
       "pub_rec_bankruptcies     697\n",
       "dtype: int64"
      ]
     },
     "execution_count": 388,
     "metadata": {},
     "output_type": "execute_result"
    }
   ],
   "source": [
    "# Finding columns which needs to be filled properly \n",
    "loan_df.isna().sum() "
   ]
  },
  {
   "cell_type": "code",
   "execution_count": 389,
   "id": "af0edf42",
   "metadata": {},
   "outputs": [
    {
     "data": {
      "text/plain": [
       "0        0.0\n",
       "1        0.0\n",
       "2        0.0\n",
       "3        0.0\n",
       "5        0.0\n",
       "        ... \n",
       "39712    0.0\n",
       "39713    0.0\n",
       "39714    0.0\n",
       "39715    0.0\n",
       "39716    0.0\n",
       "Name: pub_rec_bankruptcies, Length: 38577, dtype: float64"
      ]
     },
     "execution_count": 389,
     "metadata": {},
     "output_type": "execute_result"
    }
   ],
   "source": [
    "# Taking mode to fill na values for emp_length and pub_rec_bankruptcies\n",
    "loan_df['emp_length'].fillna(loan_df['emp_length'].mode()[0], inplace = True)\n",
    "loan_df['pub_rec_bankruptcies'].fillna(loan_df['pub_rec_bankruptcies'].mode()[0], inplace = True)\n",
    "loan_df['emp_length']\n",
    "loan_df['pub_rec_bankruptcies']"
   ]
  },
  {
   "cell_type": "code",
   "execution_count": 390,
   "id": "8354b2e2",
   "metadata": {},
   "outputs": [],
   "source": [
    "# Here we see 9 bins are already proper only < 1 year and 10+ years needs to be corrected\n",
    "# we are making < 1 year as 0 year and 10+ years as 10\n",
    "loan_df['emp_length'] = loan_df['emp_length'].map(lambda x: 0 if \"<\" in x else (x.split('+')[0] if \"+\" in x else x.split()[0]))"
   ]
  },
  {
   "cell_type": "code",
   "execution_count": 391,
   "id": "9a32d8d3",
   "metadata": {},
   "outputs": [
    {
     "data": {
      "text/html": [
       "<div>\n",
       "<style scoped>\n",
       "    .dataframe tbody tr th:only-of-type {\n",
       "        vertical-align: middle;\n",
       "    }\n",
       "\n",
       "    .dataframe tbody tr th {\n",
       "        vertical-align: top;\n",
       "    }\n",
       "\n",
       "    .dataframe thead th {\n",
       "        text-align: right;\n",
       "    }\n",
       "</style>\n",
       "<table border=\"1\" class=\"dataframe\">\n",
       "  <thead>\n",
       "    <tr style=\"text-align: right;\">\n",
       "      <th></th>\n",
       "      <th>loan_amnt</th>\n",
       "      <th>funded_amnt_inv</th>\n",
       "      <th>term</th>\n",
       "      <th>int_rate</th>\n",
       "      <th>installment</th>\n",
       "      <th>grade</th>\n",
       "      <th>emp_length</th>\n",
       "      <th>home_ownership</th>\n",
       "      <th>annual_inc</th>\n",
       "      <th>verification_status</th>\n",
       "      <th>issue_d</th>\n",
       "      <th>loan_status</th>\n",
       "      <th>purpose</th>\n",
       "      <th>zip_code</th>\n",
       "      <th>dti</th>\n",
       "      <th>pub_rec_bankruptcies</th>\n",
       "    </tr>\n",
       "  </thead>\n",
       "  <tbody>\n",
       "    <tr>\n",
       "      <th>0</th>\n",
       "      <td>5000</td>\n",
       "      <td>4975</td>\n",
       "      <td>36</td>\n",
       "      <td>10.65</td>\n",
       "      <td>162.87</td>\n",
       "      <td>B</td>\n",
       "      <td>10</td>\n",
       "      <td>RENT</td>\n",
       "      <td>24000</td>\n",
       "      <td>Verified</td>\n",
       "      <td>Dec-11</td>\n",
       "      <td>Fully Paid</td>\n",
       "      <td>credit_card</td>\n",
       "      <td>860xx</td>\n",
       "      <td>27.65</td>\n",
       "      <td>0.0</td>\n",
       "    </tr>\n",
       "    <tr>\n",
       "      <th>1</th>\n",
       "      <td>2500</td>\n",
       "      <td>2500</td>\n",
       "      <td>60</td>\n",
       "      <td>15.27</td>\n",
       "      <td>59.83</td>\n",
       "      <td>C</td>\n",
       "      <td>0</td>\n",
       "      <td>RENT</td>\n",
       "      <td>30000</td>\n",
       "      <td>Source Verified</td>\n",
       "      <td>Dec-11</td>\n",
       "      <td>Charged Off</td>\n",
       "      <td>car</td>\n",
       "      <td>309xx</td>\n",
       "      <td>1.00</td>\n",
       "      <td>0.0</td>\n",
       "    </tr>\n",
       "    <tr>\n",
       "      <th>2</th>\n",
       "      <td>2400</td>\n",
       "      <td>2400</td>\n",
       "      <td>36</td>\n",
       "      <td>15.96</td>\n",
       "      <td>84.33</td>\n",
       "      <td>C</td>\n",
       "      <td>10</td>\n",
       "      <td>RENT</td>\n",
       "      <td>12252</td>\n",
       "      <td>Not Verified</td>\n",
       "      <td>Dec-11</td>\n",
       "      <td>Fully Paid</td>\n",
       "      <td>small_business</td>\n",
       "      <td>606xx</td>\n",
       "      <td>8.72</td>\n",
       "      <td>0.0</td>\n",
       "    </tr>\n",
       "    <tr>\n",
       "      <th>3</th>\n",
       "      <td>10000</td>\n",
       "      <td>10000</td>\n",
       "      <td>36</td>\n",
       "      <td>13.49</td>\n",
       "      <td>339.31</td>\n",
       "      <td>C</td>\n",
       "      <td>10</td>\n",
       "      <td>RENT</td>\n",
       "      <td>49200</td>\n",
       "      <td>Source Verified</td>\n",
       "      <td>Dec-11</td>\n",
       "      <td>Fully Paid</td>\n",
       "      <td>other</td>\n",
       "      <td>917xx</td>\n",
       "      <td>20.00</td>\n",
       "      <td>0.0</td>\n",
       "    </tr>\n",
       "    <tr>\n",
       "      <th>5</th>\n",
       "      <td>5000</td>\n",
       "      <td>5000</td>\n",
       "      <td>36</td>\n",
       "      <td>7.90</td>\n",
       "      <td>156.46</td>\n",
       "      <td>A</td>\n",
       "      <td>3</td>\n",
       "      <td>RENT</td>\n",
       "      <td>36000</td>\n",
       "      <td>Source Verified</td>\n",
       "      <td>Dec-11</td>\n",
       "      <td>Fully Paid</td>\n",
       "      <td>wedding</td>\n",
       "      <td>852xx</td>\n",
       "      <td>11.20</td>\n",
       "      <td>0.0</td>\n",
       "    </tr>\n",
       "  </tbody>\n",
       "</table>\n",
       "</div>"
      ],
      "text/plain": [
       "   loan_amnt  funded_amnt_inv term  int_rate  installment grade emp_length  \\\n",
       "0       5000             4975   36     10.65       162.87     B         10   \n",
       "1       2500             2500   60     15.27        59.83     C          0   \n",
       "2       2400             2400   36     15.96        84.33     C         10   \n",
       "3      10000            10000   36     13.49       339.31     C         10   \n",
       "5       5000             5000   36      7.90       156.46     A          3   \n",
       "\n",
       "  home_ownership  annual_inc verification_status issue_d  loan_status  \\\n",
       "0           RENT       24000            Verified  Dec-11   Fully Paid   \n",
       "1           RENT       30000     Source Verified  Dec-11  Charged Off   \n",
       "2           RENT       12252        Not Verified  Dec-11   Fully Paid   \n",
       "3           RENT       49200     Source Verified  Dec-11   Fully Paid   \n",
       "5           RENT       36000     Source Verified  Dec-11   Fully Paid   \n",
       "\n",
       "          purpose zip_code    dti  pub_rec_bankruptcies  \n",
       "0     credit_card    860xx  27.65                   0.0  \n",
       "1             car    309xx   1.00                   0.0  \n",
       "2  small_business    606xx   8.72                   0.0  \n",
       "3           other    917xx  20.00                   0.0  \n",
       "5         wedding    852xx  11.20                   0.0  "
      ]
     },
     "execution_count": 391,
     "metadata": {},
     "output_type": "execute_result"
    }
   ],
   "source": [
    "loan_df.head()"
   ]
  },
  {
   "cell_type": "code",
   "execution_count": 392,
   "id": "5f2db3ca",
   "metadata": {},
   "outputs": [],
   "source": [
    "# converting annual_inc to int as there are very few having float values\n",
    "loan_df['annual_inc'] = list(map(lambda a:int(a), loan_df['annual_inc']))"
   ]
  },
  {
   "cell_type": "code",
   "execution_count": 393,
   "id": "5edb5da6",
   "metadata": {},
   "outputs": [
    {
     "data": {
      "text/html": [
       "<div>\n",
       "<style scoped>\n",
       "    .dataframe tbody tr th:only-of-type {\n",
       "        vertical-align: middle;\n",
       "    }\n",
       "\n",
       "    .dataframe tbody tr th {\n",
       "        vertical-align: top;\n",
       "    }\n",
       "\n",
       "    .dataframe thead th {\n",
       "        text-align: right;\n",
       "    }\n",
       "</style>\n",
       "<table border=\"1\" class=\"dataframe\">\n",
       "  <thead>\n",
       "    <tr style=\"text-align: right;\">\n",
       "      <th></th>\n",
       "      <th>loan_amnt</th>\n",
       "      <th>funded_amnt_inv</th>\n",
       "      <th>term</th>\n",
       "      <th>int_rate</th>\n",
       "      <th>installment</th>\n",
       "      <th>grade</th>\n",
       "      <th>emp_length</th>\n",
       "      <th>home_ownership</th>\n",
       "      <th>annual_inc</th>\n",
       "      <th>verification_status</th>\n",
       "      <th>issue_d</th>\n",
       "      <th>loan_status</th>\n",
       "      <th>purpose</th>\n",
       "      <th>zip_code</th>\n",
       "      <th>dti</th>\n",
       "      <th>pub_rec_bankruptcies</th>\n",
       "    </tr>\n",
       "  </thead>\n",
       "  <tbody>\n",
       "    <tr>\n",
       "      <th>0</th>\n",
       "      <td>5000</td>\n",
       "      <td>4975</td>\n",
       "      <td>36</td>\n",
       "      <td>10.65</td>\n",
       "      <td>162.87</td>\n",
       "      <td>B</td>\n",
       "      <td>10</td>\n",
       "      <td>RENT</td>\n",
       "      <td>24000</td>\n",
       "      <td>Verified</td>\n",
       "      <td>Dec-11</td>\n",
       "      <td>Fully Paid</td>\n",
       "      <td>credit_card</td>\n",
       "      <td>860xx</td>\n",
       "      <td>27.65</td>\n",
       "      <td>0.0</td>\n",
       "    </tr>\n",
       "    <tr>\n",
       "      <th>1</th>\n",
       "      <td>2500</td>\n",
       "      <td>2500</td>\n",
       "      <td>60</td>\n",
       "      <td>15.27</td>\n",
       "      <td>59.83</td>\n",
       "      <td>C</td>\n",
       "      <td>0</td>\n",
       "      <td>RENT</td>\n",
       "      <td>30000</td>\n",
       "      <td>Source Verified</td>\n",
       "      <td>Dec-11</td>\n",
       "      <td>Charged Off</td>\n",
       "      <td>car</td>\n",
       "      <td>309xx</td>\n",
       "      <td>1.00</td>\n",
       "      <td>0.0</td>\n",
       "    </tr>\n",
       "    <tr>\n",
       "      <th>2</th>\n",
       "      <td>2400</td>\n",
       "      <td>2400</td>\n",
       "      <td>36</td>\n",
       "      <td>15.96</td>\n",
       "      <td>84.33</td>\n",
       "      <td>C</td>\n",
       "      <td>10</td>\n",
       "      <td>RENT</td>\n",
       "      <td>12252</td>\n",
       "      <td>Not Verified</td>\n",
       "      <td>Dec-11</td>\n",
       "      <td>Fully Paid</td>\n",
       "      <td>small_business</td>\n",
       "      <td>606xx</td>\n",
       "      <td>8.72</td>\n",
       "      <td>0.0</td>\n",
       "    </tr>\n",
       "    <tr>\n",
       "      <th>3</th>\n",
       "      <td>10000</td>\n",
       "      <td>10000</td>\n",
       "      <td>36</td>\n",
       "      <td>13.49</td>\n",
       "      <td>339.31</td>\n",
       "      <td>C</td>\n",
       "      <td>10</td>\n",
       "      <td>RENT</td>\n",
       "      <td>49200</td>\n",
       "      <td>Source Verified</td>\n",
       "      <td>Dec-11</td>\n",
       "      <td>Fully Paid</td>\n",
       "      <td>other</td>\n",
       "      <td>917xx</td>\n",
       "      <td>20.00</td>\n",
       "      <td>0.0</td>\n",
       "    </tr>\n",
       "    <tr>\n",
       "      <th>5</th>\n",
       "      <td>5000</td>\n",
       "      <td>5000</td>\n",
       "      <td>36</td>\n",
       "      <td>7.90</td>\n",
       "      <td>156.46</td>\n",
       "      <td>A</td>\n",
       "      <td>3</td>\n",
       "      <td>RENT</td>\n",
       "      <td>36000</td>\n",
       "      <td>Source Verified</td>\n",
       "      <td>Dec-11</td>\n",
       "      <td>Fully Paid</td>\n",
       "      <td>wedding</td>\n",
       "      <td>852xx</td>\n",
       "      <td>11.20</td>\n",
       "      <td>0.0</td>\n",
       "    </tr>\n",
       "  </tbody>\n",
       "</table>\n",
       "</div>"
      ],
      "text/plain": [
       "   loan_amnt  funded_amnt_inv term  int_rate  installment grade emp_length  \\\n",
       "0       5000             4975   36     10.65       162.87     B         10   \n",
       "1       2500             2500   60     15.27        59.83     C          0   \n",
       "2       2400             2400   36     15.96        84.33     C         10   \n",
       "3      10000            10000   36     13.49       339.31     C         10   \n",
       "5       5000             5000   36      7.90       156.46     A          3   \n",
       "\n",
       "  home_ownership  annual_inc verification_status issue_d  loan_status  \\\n",
       "0           RENT       24000            Verified  Dec-11   Fully Paid   \n",
       "1           RENT       30000     Source Verified  Dec-11  Charged Off   \n",
       "2           RENT       12252        Not Verified  Dec-11   Fully Paid   \n",
       "3           RENT       49200     Source Verified  Dec-11   Fully Paid   \n",
       "5           RENT       36000     Source Verified  Dec-11   Fully Paid   \n",
       "\n",
       "          purpose zip_code    dti  pub_rec_bankruptcies  \n",
       "0     credit_card    860xx  27.65                   0.0  \n",
       "1             car    309xx   1.00                   0.0  \n",
       "2  small_business    606xx   8.72                   0.0  \n",
       "3           other    917xx  20.00                   0.0  \n",
       "5         wedding    852xx  11.20                   0.0  "
      ]
     },
     "execution_count": 393,
     "metadata": {},
     "output_type": "execute_result"
    }
   ],
   "source": [
    "loan_df.head()"
   ]
  },
  {
   "cell_type": "code",
   "execution_count": 394,
   "id": "67d2cef3",
   "metadata": {},
   "outputs": [
    {
     "ename": "ValueError",
     "evalue": "time data 'Sept-11' does not match format '%b-%y'",
     "output_type": "error",
     "traceback": [
      "\u001b[0;31m---------------------------------------------------------------------------\u001b[0m",
      "\u001b[0;31mValueError\u001b[0m                                Traceback (most recent call last)",
      "Input \u001b[0;32mIn [394]\u001b[0m, in \u001b[0;36m<cell line: 7>\u001b[0;34m()\u001b[0m\n\u001b[1;32m      1\u001b[0m \u001b[38;5;66;03m# EDA - Derived Metrics\u001b[39;00m\n\u001b[1;32m      2\u001b[0m \u001b[38;5;66;03m# We should convert issue_d to datetime object and extract year and month\u001b[39;00m\n\u001b[1;32m      3\u001b[0m \u001b[38;5;66;03m#loan_df['issue_d'] = loan_df['issue_d'].map(lambda x: parser.parse(x))\u001b[39;00m\n\u001b[1;32m      4\u001b[0m \u001b[38;5;66;03m#loan_df['issue_d'] \u001b[39;00m\n\u001b[1;32m      5\u001b[0m \n\u001b[1;32m      6\u001b[0m \u001b[38;5;66;03m# <<Rahul commented this, since it was not working. Will rediscuss this one.>>\u001b[39;00m\n\u001b[0;32m----> 7\u001b[0m loan_df[\u001b[38;5;124m'\u001b[39m\u001b[38;5;124missue_d\u001b[39m\u001b[38;5;124m'\u001b[39m] \u001b[38;5;241m=\u001b[39m pd\u001b[38;5;241m.\u001b[39mto_datetime(\u001b[43mloan_df\u001b[49m\u001b[43m[\u001b[49m\u001b[38;5;124;43m'\u001b[39;49m\u001b[38;5;124;43missue_d\u001b[39;49m\u001b[38;5;124;43m'\u001b[39;49m\u001b[43m]\u001b[49m\u001b[38;5;241;43m.\u001b[39;49m\u001b[43mapply\u001b[49m\u001b[43m(\u001b[49m\u001b[38;5;28;43;01mlambda\u001b[39;49;00m\u001b[43m \u001b[49m\u001b[43mx\u001b[49m\u001b[43m:\u001b[49m\u001b[43m \u001b[49m\u001b[43mdatetime\u001b[49m\u001b[38;5;241;43m.\u001b[39;49m\u001b[43mstrptime\u001b[49m\u001b[43m(\u001b[49m\u001b[43mx\u001b[49m\u001b[43m,\u001b[49m\u001b[38;5;124;43m'\u001b[39;49m\u001b[38;5;124;43m%\u001b[39;49m\u001b[38;5;124;43mb-\u001b[39;49m\u001b[38;5;124;43m%\u001b[39;49m\u001b[38;5;124;43my\u001b[39;49m\u001b[38;5;124;43m'\u001b[39;49m\u001b[43m)\u001b[49m\u001b[43m)\u001b[49m)\u001b[38;5;241m.\u001b[39mdt\u001b[38;5;241m.\u001b[39mstrftime(\u001b[38;5;124m'\u001b[39m\u001b[38;5;124m%\u001b[39m\u001b[38;5;124mm-\u001b[39m\u001b[38;5;124m%\u001b[39m\u001b[38;5;124mY\u001b[39m\u001b[38;5;124m'\u001b[39m)\n",
      "File \u001b[0;32m/usr/local/lib/python3.9/site-packages/pandas/core/series.py:4433\u001b[0m, in \u001b[0;36mSeries.apply\u001b[0;34m(self, func, convert_dtype, args, **kwargs)\u001b[0m\n\u001b[1;32m   4323\u001b[0m \u001b[38;5;28;01mdef\u001b[39;00m \u001b[38;5;21mapply\u001b[39m(\n\u001b[1;32m   4324\u001b[0m     \u001b[38;5;28mself\u001b[39m,\n\u001b[1;32m   4325\u001b[0m     func: AggFuncType,\n\u001b[0;32m   (...)\u001b[0m\n\u001b[1;32m   4328\u001b[0m     \u001b[38;5;241m*\u001b[39m\u001b[38;5;241m*\u001b[39mkwargs,\n\u001b[1;32m   4329\u001b[0m ) \u001b[38;5;241m-\u001b[39m\u001b[38;5;241m>\u001b[39m DataFrame \u001b[38;5;241m|\u001b[39m Series:\n\u001b[1;32m   4330\u001b[0m     \u001b[38;5;124;03m\"\"\"\u001b[39;00m\n\u001b[1;32m   4331\u001b[0m \u001b[38;5;124;03m    Invoke function on values of Series.\u001b[39;00m\n\u001b[1;32m   4332\u001b[0m \n\u001b[0;32m   (...)\u001b[0m\n\u001b[1;32m   4431\u001b[0m \u001b[38;5;124;03m    dtype: float64\u001b[39;00m\n\u001b[1;32m   4432\u001b[0m \u001b[38;5;124;03m    \"\"\"\u001b[39;00m\n\u001b[0;32m-> 4433\u001b[0m     \u001b[38;5;28;01mreturn\u001b[39;00m \u001b[43mSeriesApply\u001b[49m\u001b[43m(\u001b[49m\u001b[38;5;28;43mself\u001b[39;49m\u001b[43m,\u001b[49m\u001b[43m \u001b[49m\u001b[43mfunc\u001b[49m\u001b[43m,\u001b[49m\u001b[43m \u001b[49m\u001b[43mconvert_dtype\u001b[49m\u001b[43m,\u001b[49m\u001b[43m \u001b[49m\u001b[43margs\u001b[49m\u001b[43m,\u001b[49m\u001b[43m \u001b[49m\u001b[43mkwargs\u001b[49m\u001b[43m)\u001b[49m\u001b[38;5;241;43m.\u001b[39;49m\u001b[43mapply\u001b[49m\u001b[43m(\u001b[49m\u001b[43m)\u001b[49m\n",
      "File \u001b[0;32m/usr/local/lib/python3.9/site-packages/pandas/core/apply.py:1082\u001b[0m, in \u001b[0;36mSeriesApply.apply\u001b[0;34m(self)\u001b[0m\n\u001b[1;32m   1078\u001b[0m \u001b[38;5;28;01mif\u001b[39;00m \u001b[38;5;28misinstance\u001b[39m(\u001b[38;5;28mself\u001b[39m\u001b[38;5;241m.\u001b[39mf, \u001b[38;5;28mstr\u001b[39m):\n\u001b[1;32m   1079\u001b[0m     \u001b[38;5;66;03m# if we are a string, try to dispatch\u001b[39;00m\n\u001b[1;32m   1080\u001b[0m     \u001b[38;5;28;01mreturn\u001b[39;00m \u001b[38;5;28mself\u001b[39m\u001b[38;5;241m.\u001b[39mapply_str()\n\u001b[0;32m-> 1082\u001b[0m \u001b[38;5;28;01mreturn\u001b[39;00m \u001b[38;5;28;43mself\u001b[39;49m\u001b[38;5;241;43m.\u001b[39;49m\u001b[43mapply_standard\u001b[49m\u001b[43m(\u001b[49m\u001b[43m)\u001b[49m\n",
      "File \u001b[0;32m/usr/local/lib/python3.9/site-packages/pandas/core/apply.py:1137\u001b[0m, in \u001b[0;36mSeriesApply.apply_standard\u001b[0;34m(self)\u001b[0m\n\u001b[1;32m   1131\u001b[0m         values \u001b[38;5;241m=\u001b[39m obj\u001b[38;5;241m.\u001b[39mastype(\u001b[38;5;28mobject\u001b[39m)\u001b[38;5;241m.\u001b[39m_values\n\u001b[1;32m   1132\u001b[0m         \u001b[38;5;66;03m# error: Argument 2 to \"map_infer\" has incompatible type\u001b[39;00m\n\u001b[1;32m   1133\u001b[0m         \u001b[38;5;66;03m# \"Union[Callable[..., Any], str, List[Union[Callable[..., Any], str]],\u001b[39;00m\n\u001b[1;32m   1134\u001b[0m         \u001b[38;5;66;03m# Dict[Hashable, Union[Union[Callable[..., Any], str],\u001b[39;00m\n\u001b[1;32m   1135\u001b[0m         \u001b[38;5;66;03m# List[Union[Callable[..., Any], str]]]]]\"; expected\u001b[39;00m\n\u001b[1;32m   1136\u001b[0m         \u001b[38;5;66;03m# \"Callable[[Any], Any]\"\u001b[39;00m\n\u001b[0;32m-> 1137\u001b[0m         mapped \u001b[38;5;241m=\u001b[39m \u001b[43mlib\u001b[49m\u001b[38;5;241;43m.\u001b[39;49m\u001b[43mmap_infer\u001b[49m\u001b[43m(\u001b[49m\n\u001b[1;32m   1138\u001b[0m \u001b[43m            \u001b[49m\u001b[43mvalues\u001b[49m\u001b[43m,\u001b[49m\n\u001b[1;32m   1139\u001b[0m \u001b[43m            \u001b[49m\u001b[43mf\u001b[49m\u001b[43m,\u001b[49m\u001b[43m  \u001b[49m\u001b[38;5;66;43;03m# type: ignore[arg-type]\u001b[39;49;00m\n\u001b[1;32m   1140\u001b[0m \u001b[43m            \u001b[49m\u001b[43mconvert\u001b[49m\u001b[38;5;241;43m=\u001b[39;49m\u001b[38;5;28;43mself\u001b[39;49m\u001b[38;5;241;43m.\u001b[39;49m\u001b[43mconvert_dtype\u001b[49m\u001b[43m,\u001b[49m\n\u001b[1;32m   1141\u001b[0m \u001b[43m        \u001b[49m\u001b[43m)\u001b[49m\n\u001b[1;32m   1143\u001b[0m \u001b[38;5;28;01mif\u001b[39;00m \u001b[38;5;28mlen\u001b[39m(mapped) \u001b[38;5;129;01mand\u001b[39;00m \u001b[38;5;28misinstance\u001b[39m(mapped[\u001b[38;5;241m0\u001b[39m], ABCSeries):\n\u001b[1;32m   1144\u001b[0m     \u001b[38;5;66;03m# GH#43986 Need to do list(mapped) in order to get treated as nested\u001b[39;00m\n\u001b[1;32m   1145\u001b[0m     \u001b[38;5;66;03m#  See also GH#25959 regarding EA support\u001b[39;00m\n\u001b[1;32m   1146\u001b[0m     \u001b[38;5;28;01mreturn\u001b[39;00m obj\u001b[38;5;241m.\u001b[39m_constructor_expanddim(\u001b[38;5;28mlist\u001b[39m(mapped), index\u001b[38;5;241m=\u001b[39mobj\u001b[38;5;241m.\u001b[39mindex)\n",
      "File \u001b[0;32m/usr/local/lib/python3.9/site-packages/pandas/_libs/lib.pyx:2870\u001b[0m, in \u001b[0;36mpandas._libs.lib.map_infer\u001b[0;34m()\u001b[0m\n",
      "Input \u001b[0;32mIn [394]\u001b[0m, in \u001b[0;36m<lambda>\u001b[0;34m(x)\u001b[0m\n\u001b[1;32m      1\u001b[0m \u001b[38;5;66;03m# EDA - Derived Metrics\u001b[39;00m\n\u001b[1;32m      2\u001b[0m \u001b[38;5;66;03m# We should convert issue_d to datetime object and extract year and month\u001b[39;00m\n\u001b[1;32m      3\u001b[0m \u001b[38;5;66;03m#loan_df['issue_d'] = loan_df['issue_d'].map(lambda x: parser.parse(x))\u001b[39;00m\n\u001b[1;32m      4\u001b[0m \u001b[38;5;66;03m#loan_df['issue_d'] \u001b[39;00m\n\u001b[1;32m      5\u001b[0m \n\u001b[1;32m      6\u001b[0m \u001b[38;5;66;03m# <<Rahul commented this, since it was not working. Will rediscuss this one.>>\u001b[39;00m\n\u001b[0;32m----> 7\u001b[0m loan_df[\u001b[38;5;124m'\u001b[39m\u001b[38;5;124missue_d\u001b[39m\u001b[38;5;124m'\u001b[39m] \u001b[38;5;241m=\u001b[39m pd\u001b[38;5;241m.\u001b[39mto_datetime(loan_df[\u001b[38;5;124m'\u001b[39m\u001b[38;5;124missue_d\u001b[39m\u001b[38;5;124m'\u001b[39m]\u001b[38;5;241m.\u001b[39mapply(\u001b[38;5;28;01mlambda\u001b[39;00m x: \u001b[43mdatetime\u001b[49m\u001b[38;5;241;43m.\u001b[39;49m\u001b[43mstrptime\u001b[49m\u001b[43m(\u001b[49m\u001b[43mx\u001b[49m\u001b[43m,\u001b[49m\u001b[38;5;124;43m'\u001b[39;49m\u001b[38;5;124;43m%\u001b[39;49m\u001b[38;5;124;43mb-\u001b[39;49m\u001b[38;5;124;43m%\u001b[39;49m\u001b[38;5;124;43my\u001b[39;49m\u001b[38;5;124;43m'\u001b[39;49m\u001b[43m)\u001b[49m))\u001b[38;5;241m.\u001b[39mdt\u001b[38;5;241m.\u001b[39mstrftime(\u001b[38;5;124m'\u001b[39m\u001b[38;5;124m%\u001b[39m\u001b[38;5;124mm-\u001b[39m\u001b[38;5;124m%\u001b[39m\u001b[38;5;124mY\u001b[39m\u001b[38;5;124m'\u001b[39m)\n",
      "File \u001b[0;32m/usr/local/Cellar/python@3.9/3.9.12/Frameworks/Python.framework/Versions/3.9/lib/python3.9/_strptime.py:568\u001b[0m, in \u001b[0;36m_strptime_datetime\u001b[0;34m(cls, data_string, format)\u001b[0m\n\u001b[1;32m    565\u001b[0m \u001b[38;5;28;01mdef\u001b[39;00m \u001b[38;5;21m_strptime_datetime\u001b[39m(\u001b[38;5;28mcls\u001b[39m, data_string, \u001b[38;5;28mformat\u001b[39m\u001b[38;5;241m=\u001b[39m\u001b[38;5;124m\"\u001b[39m\u001b[38;5;132;01m%a\u001b[39;00m\u001b[38;5;124m \u001b[39m\u001b[38;5;124m%\u001b[39m\u001b[38;5;124mb \u001b[39m\u001b[38;5;132;01m%d\u001b[39;00m\u001b[38;5;124m \u001b[39m\u001b[38;5;124m%\u001b[39m\u001b[38;5;124mH:\u001b[39m\u001b[38;5;124m%\u001b[39m\u001b[38;5;124mM:\u001b[39m\u001b[38;5;124m%\u001b[39m\u001b[38;5;124mS \u001b[39m\u001b[38;5;124m%\u001b[39m\u001b[38;5;124mY\u001b[39m\u001b[38;5;124m\"\u001b[39m):\n\u001b[1;32m    566\u001b[0m     \u001b[38;5;124;03m\"\"\"Return a class cls instance based on the input string and the\u001b[39;00m\n\u001b[1;32m    567\u001b[0m \u001b[38;5;124;03m    format string.\"\"\"\u001b[39;00m\n\u001b[0;32m--> 568\u001b[0m     tt, fraction, gmtoff_fraction \u001b[38;5;241m=\u001b[39m \u001b[43m_strptime\u001b[49m\u001b[43m(\u001b[49m\u001b[43mdata_string\u001b[49m\u001b[43m,\u001b[49m\u001b[43m \u001b[49m\u001b[38;5;28;43mformat\u001b[39;49m\u001b[43m)\u001b[49m\n\u001b[1;32m    569\u001b[0m     tzname, gmtoff \u001b[38;5;241m=\u001b[39m tt[\u001b[38;5;241m-\u001b[39m\u001b[38;5;241m2\u001b[39m:]\n\u001b[1;32m    570\u001b[0m     args \u001b[38;5;241m=\u001b[39m tt[:\u001b[38;5;241m6\u001b[39m] \u001b[38;5;241m+\u001b[39m (fraction,)\n",
      "File \u001b[0;32m/usr/local/Cellar/python@3.9/3.9.12/Frameworks/Python.framework/Versions/3.9/lib/python3.9/_strptime.py:349\u001b[0m, in \u001b[0;36m_strptime\u001b[0;34m(data_string, format)\u001b[0m\n\u001b[1;32m    347\u001b[0m found \u001b[38;5;241m=\u001b[39m format_regex\u001b[38;5;241m.\u001b[39mmatch(data_string)\n\u001b[1;32m    348\u001b[0m \u001b[38;5;28;01mif\u001b[39;00m \u001b[38;5;129;01mnot\u001b[39;00m found:\n\u001b[0;32m--> 349\u001b[0m     \u001b[38;5;28;01mraise\u001b[39;00m \u001b[38;5;167;01mValueError\u001b[39;00m(\u001b[38;5;124m\"\u001b[39m\u001b[38;5;124mtime data \u001b[39m\u001b[38;5;132;01m%r\u001b[39;00m\u001b[38;5;124m does not match format \u001b[39m\u001b[38;5;132;01m%r\u001b[39;00m\u001b[38;5;124m\"\u001b[39m \u001b[38;5;241m%\u001b[39m\n\u001b[1;32m    350\u001b[0m                      (data_string, \u001b[38;5;28mformat\u001b[39m))\n\u001b[1;32m    351\u001b[0m \u001b[38;5;28;01mif\u001b[39;00m \u001b[38;5;28mlen\u001b[39m(data_string) \u001b[38;5;241m!=\u001b[39m found\u001b[38;5;241m.\u001b[39mend():\n\u001b[1;32m    352\u001b[0m     \u001b[38;5;28;01mraise\u001b[39;00m \u001b[38;5;167;01mValueError\u001b[39;00m(\u001b[38;5;124m\"\u001b[39m\u001b[38;5;124munconverted data remains: \u001b[39m\u001b[38;5;132;01m%s\u001b[39;00m\u001b[38;5;124m\"\u001b[39m \u001b[38;5;241m%\u001b[39m\n\u001b[1;32m    353\u001b[0m                       data_string[found\u001b[38;5;241m.\u001b[39mend():])\n",
      "\u001b[0;31mValueError\u001b[0m: time data 'Sept-11' does not match format '%b-%y'"
     ]
    }
   ],
   "source": [
    "# EDA - Derived Metrics\n",
    "# We should convert issue_d to datetime object and extract year and month\n",
    "#loan_df['issue_d'] = loan_df['issue_d'].map(lambda x: parser.parse(x))\n",
    "#loan_df['issue_d'] \n",
    "\n",
    "# <<Rahul commented this, since it was not working. Will rediscuss this one.>>\n",
    "loan_df['issue_d'] = pd.to_datetime(loan_df['issue_d'].apply(lambda x: datetime.strptime(x,'%b-%y'))).dt.strftime('%m-%Y')"
   ]
  },
  {
   "cell_type": "code",
   "execution_count": null,
   "id": "7296a866",
   "metadata": {},
   "outputs": [],
   "source": [
    "loan_df['issue_d_year'] = pd.DatetimeIndex(loan_df['issue_d']).year"
   ]
  },
  {
   "cell_type": "code",
   "execution_count": null,
   "id": "fcd8343d",
   "metadata": {},
   "outputs": [],
   "source": [
    "loan_df['issue_d_month'] = pd.DatetimeIndex(loan_df['issue_d']).month"
   ]
  },
  {
   "cell_type": "code",
   "execution_count": null,
   "id": "3ea37826",
   "metadata": {},
   "outputs": [],
   "source": [
    "loan_df.head()"
   ]
  },
  {
   "cell_type": "code",
   "execution_count": null,
   "id": "5af007b8",
   "metadata": {},
   "outputs": [],
   "source": [
    "# Removing outliers for funded_amnt_inv column\n",
    "# Basically those records whose funded_amnt_inv is 0 can not have any int_rate or \n",
    "# loan_status as Fully Paid or charged off. These are clearly wrongly entered data and hence outliers.\n",
    "loan_df = loan_df[loan_df['funded_amnt_inv'] != 0]"
   ]
  },
  {
   "cell_type": "code",
   "execution_count": null,
   "id": "a18cdc38",
   "metadata": {},
   "outputs": [],
   "source": [
    "loan_df.shape"
   ]
  },
  {
   "cell_type": "code",
   "execution_count": null,
   "id": "ded71314",
   "metadata": {},
   "outputs": [],
   "source": [
    "# EDA: Univariate Analysis\n",
    "# A. Finding outliers in loan_amnt, funded_amnt_inv, annual_inc, int_rate, dti\n",
    "# First checking outliers in loan_amnt and funded_amnt_inv as their ranges are similar\n",
    "loan_df[['loan_amnt', 'funded_amnt_inv']].plot(kind='box', title='boxplot')"
   ]
  },
  {
   "cell_type": "code",
   "execution_count": null,
   "id": "ffd8e3d0",
   "metadata": {},
   "outputs": [],
   "source": [
    "# Data looks fine for loan_amnt and funded_amnt_inv and doesn't seem to have outliers as\n",
    "# data is continuously growing. So not doing anything for these.\n",
    "\n",
    "# Now lests check for int_rate\n",
    "loan_df[['int_rate']].plot(kind='box', title='boxplot')"
   ]
  },
  {
   "cell_type": "code",
   "execution_count": null,
   "id": "26720a1f",
   "metadata": {},
   "outputs": [],
   "source": [
    "# Data looks fine for int_rate and doesn't seem to have outliers as\n",
    "# data is continuously growing. So not doing anything for these.\n",
    "\n",
    "# Now lets check for dti\n",
    "loan_df[['dti']].plot(kind='box', title='boxplot')"
   ]
  },
  {
   "cell_type": "code",
   "execution_count": null,
   "id": "b202512d",
   "metadata": {},
   "outputs": [],
   "source": [
    "# Data looks fine for dti and doesn't seem to have outliers as\n",
    "# data is continuously growing. So not doing anything for these.\n",
    "\n",
    "# Now lets check for annual_inc\n",
    "loan_df[['annual_inc']].plot(kind='box', title='boxplot')"
   ]
  },
  {
   "cell_type": "code",
   "execution_count": null,
   "id": "58b8aefd",
   "metadata": {},
   "outputs": [],
   "source": [
    "# We could see clearly see outliers, lets find the range to drop\n",
    "outlier_finder_range = [0, 0.1, 0.2, 0.3, 0.4, 0.5, 0.6, 0.7, 0.8, 0.9, 0.91, 0.92, 0.93, 0.94, 0.95, 0.96, 0.97, 0.98, 0.99, 1]\n",
    "loan_df.annual_inc.quantile(outlier_finder_range)"
   ]
  },
  {
   "cell_type": "code",
   "execution_count": null,
   "id": "23ec6a6d",
   "metadata": {},
   "outputs": [],
   "source": [
    "# We can clearly see that data after 95% or 0.95 is in range of outlier\n",
    "outlier_quatile_annual_inc = loan_df['annual_inc'].quantile(0.95)\n",
    "loan_df = loan_df[loan_df.annual_inc <= outlier_quatile_annual_inc]"
   ]
  },
  {
   "cell_type": "code",
   "execution_count": null,
   "id": "3025abbb",
   "metadata": {},
   "outputs": [],
   "source": [
    "loan_df.shape"
   ]
  },
  {
   "cell_type": "code",
   "execution_count": null,
   "id": "a3cc4169",
   "metadata": {},
   "outputs": [],
   "source": [
    "# We created the modified csv to analyze on smaller data\n",
    "# loan_df.to_csv('modified_loan.csv', index = None, header=True)"
   ]
  },
  {
   "cell_type": "code",
   "execution_count": null,
   "id": "77076ba4",
   "metadata": {},
   "outputs": [],
   "source": [
    "loan_df.head()"
   ]
  },
  {
   "cell_type": "code",
   "execution_count": null,
   "id": "b546c1a1",
   "metadata": {},
   "outputs": [],
   "source": [
    "# EDA: Bivariate Analysis\n",
    "# We will compare loan_status with rest of the features/columns to find the Defaulter pattern\n",
    "# We have 2 status for loan_status : Charged Off and Fully Paid\n",
    "# We will compare results of both Charged Off and Fully Paid to discover correct pattern\n",
    "# else it may be possible that we may find a pattern for Charged Off that also exists for Fully Paid.\n",
    "\n",
    "# Plotting to see split of loan_status viz. Fully paid vs Charged Off \n",
    "sns.countplot(x = 'loan_status', data = loan_df)\n",
    "plt.xlabel('Loan Status')\n",
    "plt.ylabel('Count')\n",
    "# this just shows Fully paid vs Charged Off split"
   ]
  },
  {
   "cell_type": "code",
   "execution_count": null,
   "id": "ecc9890d",
   "metadata": {},
   "outputs": [],
   "source": [
    "# create_feature_bins will create a new feature group for a feature in dataframe\n",
    "def create_feature_bins(df, var_type):\n",
    "    # For some fields like emp_length, term etc we already have bins but for other making now\n",
    "    group_attribute = \"\"\n",
    "    if (var_type == 'funded_amnt_inv'):\n",
    "        df['funded_amnt_inv_groups'] = pd.cut(loan_df['funded_amnt_inv'], bins=8, precision=0, \n",
    "                                       labels =['0-5000', '5001-10000', '10001-15000', '15001-20000', '20001-25000', \n",
    "                                        '25001-30000', '30001-35000', '35000-40000'])\n",
    "        group_attribute = 'funded_amnt_inv_groups'\n",
    "        \n",
    "    elif (var_type == 'loan_amnt'):\n",
    "        df['loan_amount_groups'] = pd.cut(loan_df['loan_amnt'], bins=8, precision=0, \n",
    "                                       labels =['0-5000', '5001-10000', '10001-15000', '15001-20000', '20001-25000', \n",
    "                                        '25001-30000', '30001-35000', '35000-40000'])\n",
    "        group_attribute = 'loan_amount_groups'\n",
    "        \n",
    "    elif (var_type == 'int_rate'):\n",
    "        df['int_rate_groups'] = pd.cut(loan_df['int_rate'], bins=5, precision=0, \n",
    "                                       labels =['0-5', '6-10', '11-15', '16-20', '21-25'])\n",
    "        group_attribute = 'int_rate_groups'\n",
    "        \n",
    "    elif(var_type == 'annual_inc'):\n",
    "        df['annual_inc_groups'] = pd.cut(loan_df['annual_inc'], bins=8, precision=0, \n",
    "                                       labels =['0-20000', '20001-40000','40001-60000', '60001-80000',\n",
    "                                                '80001-100000', '100001-120000', '120001-140000','140001-160000'])\n",
    "        group_attribute = 'annual_inc_groups'\n",
    "        \n",
    "    elif(var_type == 'dti'):\n",
    "        df['dti_groups'] =   pd.cut(loan_df['dti'], bins=6, precision=0,\n",
    "                                   labels =['0-5', '6-10', '11-15', '16-20', '21-25', '26-30']) \n",
    "        group_attribute = 'dti_groups'\n",
    "        \n",
    "    return group_attribute"
   ]
  },
  {
   "cell_type": "code",
   "execution_count": null,
   "id": "3610d057",
   "metadata": {},
   "outputs": [],
   "source": [
    "# plt_graph is a generic function which will be used to draw various plots\n",
    "def plt_graph(df, x_var, x_label, title, hue_var=None, rot_flag=0, fig_size_x=14, fig_size_y=8):\n",
    "    \n",
    "    num_records = len(df)\n",
    "    dims = (fig_size_x,fig_size_y)\n",
    "    plt.figure(figsize=dims)\n",
    "    ax = sns.countplot(x=x_var, data=df,hue=hue_var,palette=\"Set3\")\n",
    "    plt.title(title)\n",
    "    plt.xlabel(x_label)\n",
    "\n",
    "    ax.yaxis.tick_left()\n",
    "    ax.yaxis.tick_right()\n",
    "    \n",
    "    if(rot_flag==1):\n",
    "        ax.set_xticklabels(ax.get_xticklabels(), rotation=40, ha=\"right\", fontsize=12)\n",
    "        plt.tight_layout()\n",
    "    ax.set_ylabel('Frequency [%]')\n",
    "\n",
    "    for p in ax.patches:\n",
    "        x=p.get_bbox().get_points()[:,0]\n",
    "        y=p.get_bbox().get_points()[1,1]\n",
    "        ax.annotate('{:.1f}%'.format(100.*y/num_records), (x.mean(), y), \n",
    "                ha='center', va='bottom') \n",
    "\n",
    "    \n",
    "    ax.grid(None)"
   ]
  },
  {
   "cell_type": "code",
   "execution_count": null,
   "id": "bdc94294-beb8-4487-bd72-bb603ff9a9c1",
   "metadata": {},
   "outputs": [],
   "source": [
    "# Analyzing funded_amnt_inv for charged off vs fully paid\n",
    "group_attribute = create_feature_bins(loan_df, 'funded_amnt_inv')\n",
    "plt_graph(loan_df, \"loan_status\",'Loan status','Percentage wise Loan status vs Invested Amount', group_attribute)\n",
    "\n",
    "# Analysis\n",
    "# We see funded_amnt_inv is positively correlated with both Charged off and Fully Paid. \n",
    "# We see that Employees who have exp 10+, 0, 2 & 3 years are likely to become Defaulters."
   ]
  },
  {
   "cell_type": "code",
   "execution_count": null,
   "id": "06faac3d",
   "metadata": {},
   "outputs": [],
   "source": [
    "# Analyzing int_rate for charged off vs fully paid\n",
    "group_attribute = create_feature_bins(loan_df, 'int_rate')\n",
    "plt_graph(loan_df, \"loan_status\",'Loan status','Percentage wise Loan status vs Interest Rate', group_attribute)\n",
    "\n",
    "# Analysis "
   ]
  },
  {
   "cell_type": "code",
   "execution_count": null,
   "id": "2515c45d-cfd5-497a-82ec-410b7c083273",
   "metadata": {},
   "outputs": [],
   "source": [
    "# Analyzing annual_inc for charged off vs fully paid\n",
    "group_attribute = create_feature_bins(loan_df, 'annual_inc')\n",
    "plt_graph(loan_df, \"loan_status\",'Loan status','Percentage wise Loan status vs Annual Income', group_attribute)\n",
    "\n",
    "# Analysis "
   ]
  },
  {
   "cell_type": "code",
   "execution_count": null,
   "id": "78a2b535-9cf5-4070-a8f7-0ecf2202bfa2",
   "metadata": {},
   "outputs": [],
   "source": [
    "# Analyzing dti for charged off vs fully paid\n",
    "group_attribute = create_feature_bins(loan_df, 'dti')\n",
    "plt_graph(loan_df, \"loan_status\",'Loan status','Percentage wise Loan status vs dti', group_attribute)  \n",
    "\n",
    "# Analysis "
   ]
  },
  {
   "cell_type": "code",
   "execution_count": null,
   "id": "24c60394-bc9d-4d79-80bb-6c4ec218e33d",
   "metadata": {},
   "outputs": [],
   "source": [
    "# Analyzing term for charged off vs fully paid\n",
    "plt_graph(loan_df, \"loan_status\",'Loan status','Percentage wise Loan status vs Term','term')   \n",
    "\n",
    "# Analysis "
   ]
  },
  {
   "cell_type": "code",
   "execution_count": null,
   "id": "8c4c8856-b1ed-46af-835a-989f2146e9e4",
   "metadata": {},
   "outputs": [],
   "source": [
    "# Analyzing grade for charged off vs fully paid\n",
    "plt_graph(loan_df, \"loan_status\",'Loan status','Percentage wise Loan status vs Grade','grade')   \n",
    "\n",
    "# Analysis "
   ]
  },
  {
   "cell_type": "code",
   "execution_count": null,
   "id": "56044e0e-3b1b-4c49-be39-2233561424c2",
   "metadata": {},
   "outputs": [],
   "source": [
    "# Analyzing Employment Length for charged off vs Fully paid \n",
    "plt_graph(loan_df, \"loan_status\",'Loan status','Percentage wise Loan status vs Employment Length','emp_length')   \n",
    "\n",
    "# Analysis\n",
    "# We see emp length is positively correlated with both Charged off and Fully Paid. \n",
    "# Basically emp lenght may not be a good criteria to detect Defaulters.\n",
    "# Also we see that Employees who have exp 10+, 0, 2 & 3 years are likely to become Defaulters."
   ]
  },
  {
   "cell_type": "code",
   "execution_count": null,
   "id": "21530d2e-1018-46fa-8060-f02ab77c384f",
   "metadata": {},
   "outputs": [],
   "source": [
    "# Analyzing Home Ownership for charged off vs Fully paid \n",
    "plt_graph(loan_df, \"loan_status\",'Loan status','Percentage wise Loan status vs Home Ownership','home_ownership')   \n",
    "\n",
    "# Analysis\n"
   ]
  },
  {
   "cell_type": "code",
   "execution_count": null,
   "id": "c2547065-22c0-4209-8922-5cee23d8c5d5",
   "metadata": {},
   "outputs": [],
   "source": [
    "# Analyzing Loan Issue Year for charged off vs Fully paid \n",
    "print (loan_df[\"issue_d_year\"])\n",
    "#plt_graph(loan_df, \"loan_status\",'Loan status','Percentage wise Loan status vs Loan Issue Year','issue_d_year')   \n",
    "\n",
    "# Analysis\n"
   ]
  },
  {
   "cell_type": "code",
   "execution_count": null,
   "id": "fb22c82c-a76a-42c9-8626-2805a7832ff2",
   "metadata": {},
   "outputs": [],
   "source": [
    "# Analyzing Verification Status for charged off vs Fully paid \n",
    "plt_graph(loan_df, \"loan_status\",'Loan status','Percentage wise Loan status vs Experience Level','verification_status')   \n",
    "\n",
    "# Analysis\n"
   ]
  },
  {
   "cell_type": "code",
   "execution_count": null,
   "id": "6490b7a4-215d-4a7b-add6-4a277f7adc31",
   "metadata": {},
   "outputs": [],
   "source": [
    "# Analyzing Loan Issue Year for charged off vs Fully paid \n",
    "plt_graph(loan_df, \"loan_status\",'Loan status','Percentage wise Loan status vs Loan Issue Year','issue_d_year')   \n",
    "\n",
    "# Analysis\n"
   ]
  },
  {
   "cell_type": "code",
   "execution_count": null,
   "id": "0447de96-c08a-4f13-acd2-70a6574090c3",
   "metadata": {},
   "outputs": [],
   "source": []
  }
 ],
 "metadata": {
  "kernelspec": {
   "display_name": "Python 3 (ipykernel)",
   "language": "python",
   "name": "python3"
  },
  "language_info": {
   "codemirror_mode": {
    "name": "ipython",
    "version": 3
   },
   "file_extension": ".py",
   "mimetype": "text/x-python",
   "name": "python",
   "nbconvert_exporter": "python",
   "pygments_lexer": "ipython3",
   "version": "3.9.12"
  }
 },
 "nbformat": 4,
 "nbformat_minor": 5
}
